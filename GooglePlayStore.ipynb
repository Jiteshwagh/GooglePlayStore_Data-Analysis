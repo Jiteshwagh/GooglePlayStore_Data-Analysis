{
  "nbformat": 4,
  "nbformat_minor": 0,
  "metadata": {
    "colab": {
      "name": "GooglePlayStore.ipynb",
      "provenance": [],
      "collapsed_sections": [],
      "authorship_tag": "ABX9TyOQXRTII9JoNfZQ9x+oPY10",
      "include_colab_link": true
    },
    "kernelspec": {
      "name": "python3",
      "display_name": "Python 3"
    },
    "language_info": {
      "name": "python"
    }
  },
  "cells": [
    {
      "cell_type": "markdown",
      "metadata": {
        "id": "view-in-github",
        "colab_type": "text"
      },
      "source": [
        "<a href=\"https://colab.research.google.com/github/Jiteshwagh/GooglePlayStore_Data-Analysis/blob/main/GooglePlayStore.ipynb\" target=\"_parent\"><img src=\"https://colab.research.google.com/assets/colab-badge.svg\" alt=\"Open In Colab\"/></a>"
      ]
    },
    {
      "cell_type": "markdown",
      "metadata": {
        "id": "Z88f63IFKXl_"
      },
      "source": [
        "##DATA ANALYSIS OF GOOGLE PLAYSTORE APP'S RATINGS"
      ]
    },
    {
      "cell_type": "markdown",
      "metadata": {
        "id": "XbXv9KXvSPBw"
      },
      "source": [
        "#Description\n",
        "There are more than 3.04 million apps found on Google Play Store. With this project I will take you through a journey of analyzing various apps found on the play store with the help of different python libraries.\n",
        "Dataset: The dataset is been taken from Kaggle"
      ]
    },
    {
      "cell_type": "code",
      "metadata": {
        "id": "CMzNUt2ZrRD8"
      },
      "source": [
        "#Importing all the required packages\n",
        "\n",
        "import pandas as pd\n",
        "import numpy  as np\n",
        "import seaborn as sns\n",
        "import matplotlib.pyplot as plt\n",
        "import warnings\n",
        "\n",
        "warnings.filterwarnings('ignore')"
      ],
      "execution_count": null,
      "outputs": []
    },
    {
      "cell_type": "markdown",
      "metadata": {
        "id": "1nhegzYXLhpE"
      },
      "source": [
        "#Read the Data"
      ]
    },
    {
      "cell_type": "code",
      "metadata": {
        "id": "XtdWueCNrbXb"
      },
      "source": [
        "df = pd.read_csv('/content/googleplaystore.csv')"
      ],
      "execution_count": null,
      "outputs": []
    },
    {
      "cell_type": "code",
      "metadata": {
        "colab": {
          "base_uri": "https://localhost:8080/",
          "height": 672
        },
        "id": "vN7g-vcLr4hj",
        "outputId": "fdbe7929-274f-46e5-fd1f-1e3c84f1ad51"
      },
      "source": [
        "df.head(10)      #Inspecting top ten rows"
      ],
      "execution_count": null,
      "outputs": [
        {
          "output_type": "execute_result",
          "data": {
            "text/html": [
              "<div>\n",
              "<style scoped>\n",
              "    .dataframe tbody tr th:only-of-type {\n",
              "        vertical-align: middle;\n",
              "    }\n",
              "\n",
              "    .dataframe tbody tr th {\n",
              "        vertical-align: top;\n",
              "    }\n",
              "\n",
              "    .dataframe thead th {\n",
              "        text-align: right;\n",
              "    }\n",
              "</style>\n",
              "<table border=\"1\" class=\"dataframe\">\n",
              "  <thead>\n",
              "    <tr style=\"text-align: right;\">\n",
              "      <th></th>\n",
              "      <th>App</th>\n",
              "      <th>Category</th>\n",
              "      <th>Rating</th>\n",
              "      <th>Reviews</th>\n",
              "      <th>Size</th>\n",
              "      <th>Installs</th>\n",
              "      <th>Type</th>\n",
              "      <th>Price</th>\n",
              "      <th>Content Rating</th>\n",
              "      <th>Genres</th>\n",
              "      <th>Last Updated</th>\n",
              "      <th>Current Ver</th>\n",
              "      <th>Android Ver</th>\n",
              "    </tr>\n",
              "  </thead>\n",
              "  <tbody>\n",
              "    <tr>\n",
              "      <th>0</th>\n",
              "      <td>Photo Editor &amp; Candy Camera &amp; Grid &amp; ScrapBook</td>\n",
              "      <td>ART_AND_DESIGN</td>\n",
              "      <td>4.1</td>\n",
              "      <td>159</td>\n",
              "      <td>19M</td>\n",
              "      <td>10,000+</td>\n",
              "      <td>Free</td>\n",
              "      <td>0</td>\n",
              "      <td>Everyone</td>\n",
              "      <td>Art &amp; Design</td>\n",
              "      <td>January 7, 2018</td>\n",
              "      <td>1.0.0</td>\n",
              "      <td>4.0.3 and up</td>\n",
              "    </tr>\n",
              "    <tr>\n",
              "      <th>1</th>\n",
              "      <td>Coloring book moana</td>\n",
              "      <td>ART_AND_DESIGN</td>\n",
              "      <td>3.9</td>\n",
              "      <td>967</td>\n",
              "      <td>14M</td>\n",
              "      <td>500,000+</td>\n",
              "      <td>Free</td>\n",
              "      <td>0</td>\n",
              "      <td>Everyone</td>\n",
              "      <td>Art &amp; Design;Pretend Play</td>\n",
              "      <td>January 15, 2018</td>\n",
              "      <td>2.0.0</td>\n",
              "      <td>4.0.3 and up</td>\n",
              "    </tr>\n",
              "    <tr>\n",
              "      <th>2</th>\n",
              "      <td>U Launcher Lite – FREE Live Cool Themes, Hide ...</td>\n",
              "      <td>ART_AND_DESIGN</td>\n",
              "      <td>4.7</td>\n",
              "      <td>87510</td>\n",
              "      <td>8.7M</td>\n",
              "      <td>5,000,000+</td>\n",
              "      <td>Free</td>\n",
              "      <td>0</td>\n",
              "      <td>Everyone</td>\n",
              "      <td>Art &amp; Design</td>\n",
              "      <td>August 1, 2018</td>\n",
              "      <td>1.2.4</td>\n",
              "      <td>4.0.3 and up</td>\n",
              "    </tr>\n",
              "    <tr>\n",
              "      <th>3</th>\n",
              "      <td>Sketch - Draw &amp; Paint</td>\n",
              "      <td>ART_AND_DESIGN</td>\n",
              "      <td>4.5</td>\n",
              "      <td>215644</td>\n",
              "      <td>25M</td>\n",
              "      <td>50,000,000+</td>\n",
              "      <td>Free</td>\n",
              "      <td>0</td>\n",
              "      <td>Teen</td>\n",
              "      <td>Art &amp; Design</td>\n",
              "      <td>June 8, 2018</td>\n",
              "      <td>Varies with device</td>\n",
              "      <td>4.2 and up</td>\n",
              "    </tr>\n",
              "    <tr>\n",
              "      <th>4</th>\n",
              "      <td>Pixel Draw - Number Art Coloring Book</td>\n",
              "      <td>ART_AND_DESIGN</td>\n",
              "      <td>4.3</td>\n",
              "      <td>967</td>\n",
              "      <td>2.8M</td>\n",
              "      <td>100,000+</td>\n",
              "      <td>Free</td>\n",
              "      <td>0</td>\n",
              "      <td>Everyone</td>\n",
              "      <td>Art &amp; Design;Creativity</td>\n",
              "      <td>June 20, 2018</td>\n",
              "      <td>1.1</td>\n",
              "      <td>4.4 and up</td>\n",
              "    </tr>\n",
              "    <tr>\n",
              "      <th>5</th>\n",
              "      <td>Paper flowers instructions</td>\n",
              "      <td>ART_AND_DESIGN</td>\n",
              "      <td>4.4</td>\n",
              "      <td>167</td>\n",
              "      <td>5.6M</td>\n",
              "      <td>50,000+</td>\n",
              "      <td>Free</td>\n",
              "      <td>0</td>\n",
              "      <td>Everyone</td>\n",
              "      <td>Art &amp; Design</td>\n",
              "      <td>March 26, 2017</td>\n",
              "      <td>1.0</td>\n",
              "      <td>2.3 and up</td>\n",
              "    </tr>\n",
              "    <tr>\n",
              "      <th>6</th>\n",
              "      <td>Smoke Effect Photo Maker - Smoke Editor</td>\n",
              "      <td>ART_AND_DESIGN</td>\n",
              "      <td>3.8</td>\n",
              "      <td>178</td>\n",
              "      <td>19M</td>\n",
              "      <td>50,000+</td>\n",
              "      <td>Free</td>\n",
              "      <td>0</td>\n",
              "      <td>Everyone</td>\n",
              "      <td>Art &amp; Design</td>\n",
              "      <td>April 26, 2018</td>\n",
              "      <td>1.1</td>\n",
              "      <td>4.0.3 and up</td>\n",
              "    </tr>\n",
              "    <tr>\n",
              "      <th>7</th>\n",
              "      <td>Infinite Painter</td>\n",
              "      <td>ART_AND_DESIGN</td>\n",
              "      <td>4.1</td>\n",
              "      <td>36815</td>\n",
              "      <td>29M</td>\n",
              "      <td>1,000,000+</td>\n",
              "      <td>Free</td>\n",
              "      <td>0</td>\n",
              "      <td>Everyone</td>\n",
              "      <td>Art &amp; Design</td>\n",
              "      <td>June 14, 2018</td>\n",
              "      <td>6.1.61.1</td>\n",
              "      <td>4.2 and up</td>\n",
              "    </tr>\n",
              "    <tr>\n",
              "      <th>8</th>\n",
              "      <td>Garden Coloring Book</td>\n",
              "      <td>ART_AND_DESIGN</td>\n",
              "      <td>4.4</td>\n",
              "      <td>13791</td>\n",
              "      <td>33M</td>\n",
              "      <td>1,000,000+</td>\n",
              "      <td>Free</td>\n",
              "      <td>0</td>\n",
              "      <td>Everyone</td>\n",
              "      <td>Art &amp; Design</td>\n",
              "      <td>September 20, 2017</td>\n",
              "      <td>2.9.2</td>\n",
              "      <td>3.0 and up</td>\n",
              "    </tr>\n",
              "    <tr>\n",
              "      <th>9</th>\n",
              "      <td>Kids Paint Free - Drawing Fun</td>\n",
              "      <td>ART_AND_DESIGN</td>\n",
              "      <td>4.7</td>\n",
              "      <td>121</td>\n",
              "      <td>3.1M</td>\n",
              "      <td>10,000+</td>\n",
              "      <td>Free</td>\n",
              "      <td>0</td>\n",
              "      <td>Everyone</td>\n",
              "      <td>Art &amp; Design;Creativity</td>\n",
              "      <td>July 3, 2018</td>\n",
              "      <td>2.8</td>\n",
              "      <td>4.0.3 and up</td>\n",
              "    </tr>\n",
              "  </tbody>\n",
              "</table>\n",
              "</div>"
            ],
            "text/plain": [
              "                                                 App  ...   Android Ver\n",
              "0     Photo Editor & Candy Camera & Grid & ScrapBook  ...  4.0.3 and up\n",
              "1                                Coloring book moana  ...  4.0.3 and up\n",
              "2  U Launcher Lite – FREE Live Cool Themes, Hide ...  ...  4.0.3 and up\n",
              "3                              Sketch - Draw & Paint  ...    4.2 and up\n",
              "4              Pixel Draw - Number Art Coloring Book  ...    4.4 and up\n",
              "5                         Paper flowers instructions  ...    2.3 and up\n",
              "6            Smoke Effect Photo Maker - Smoke Editor  ...  4.0.3 and up\n",
              "7                                   Infinite Painter  ...    4.2 and up\n",
              "8                               Garden Coloring Book  ...    3.0 and up\n",
              "9                      Kids Paint Free - Drawing Fun  ...  4.0.3 and up\n",
              "\n",
              "[10 rows x 13 columns]"
            ]
          },
          "metadata": {
            "tags": []
          },
          "execution_count": 194
        }
      ]
    },
    {
      "cell_type": "code",
      "metadata": {
        "colab": {
          "base_uri": "https://localhost:8080/"
        },
        "id": "56MNeYE8dSXM",
        "outputId": "e3cfea7e-4ee7-4d7a-df8a-1bccb6b30e58"
      },
      "source": [
        "df.columns"
      ],
      "execution_count": null,
      "outputs": [
        {
          "output_type": "execute_result",
          "data": {
            "text/plain": [
              "Index(['App', 'Category', 'Rating', 'Reviews', 'Size', 'Installs', 'Type',\n",
              "       'Price', 'Content Rating', 'Genres', 'Last Updated', 'Current Ver',\n",
              "       'Android Ver'],\n",
              "      dtype='object')"
            ]
          },
          "metadata": {
            "tags": []
          },
          "execution_count": 195
        }
      ]
    },
    {
      "cell_type": "code",
      "metadata": {
        "colab": {
          "base_uri": "https://localhost:8080/"
        },
        "id": "4T6SckykK3NZ",
        "outputId": "c8e59452-775d-4fc0-f98b-5f6551479942"
      },
      "source": [
        "df.shape"
      ],
      "execution_count": null,
      "outputs": [
        {
          "output_type": "execute_result",
          "data": {
            "text/plain": [
              "(10841, 13)"
            ]
          },
          "metadata": {
            "tags": []
          },
          "execution_count": 196
        }
      ]
    },
    {
      "cell_type": "code",
      "metadata": {
        "colab": {
          "base_uri": "https://localhost:8080/"
        },
        "id": "WgNANgAEdVhj",
        "outputId": "aba2ee9a-537f-4c01-c9c0-c235e2f46ba8"
      },
      "source": [
        "df.info()"
      ],
      "execution_count": null,
      "outputs": [
        {
          "output_type": "stream",
          "text": [
            "<class 'pandas.core.frame.DataFrame'>\n",
            "RangeIndex: 10841 entries, 0 to 10840\n",
            "Data columns (total 13 columns):\n",
            " #   Column          Non-Null Count  Dtype  \n",
            "---  ------          --------------  -----  \n",
            " 0   App             10841 non-null  object \n",
            " 1   Category        10841 non-null  object \n",
            " 2   Rating          9367 non-null   float64\n",
            " 3   Reviews         10841 non-null  object \n",
            " 4   Size            10841 non-null  object \n",
            " 5   Installs        10841 non-null  object \n",
            " 6   Type            10840 non-null  object \n",
            " 7   Price           10841 non-null  object \n",
            " 8   Content Rating  10840 non-null  object \n",
            " 9   Genres          10841 non-null  object \n",
            " 10  Last Updated    10841 non-null  object \n",
            " 11  Current Ver     10833 non-null  object \n",
            " 12  Android Ver     10838 non-null  object \n",
            "dtypes: float64(1), object(12)\n",
            "memory usage: 1.1+ MB\n"
          ],
          "name": "stdout"
        }
      ]
    },
    {
      "cell_type": "code",
      "metadata": {
        "colab": {
          "base_uri": "https://localhost:8080/",
          "height": 294
        },
        "id": "jX2MkCvILCdm",
        "outputId": "565e23e3-3973-4464-ef7b-52a48499d463"
      },
      "source": [
        "df.describe()         #describes all numeric values"
      ],
      "execution_count": null,
      "outputs": [
        {
          "output_type": "execute_result",
          "data": {
            "text/html": [
              "<div>\n",
              "<style scoped>\n",
              "    .dataframe tbody tr th:only-of-type {\n",
              "        vertical-align: middle;\n",
              "    }\n",
              "\n",
              "    .dataframe tbody tr th {\n",
              "        vertical-align: top;\n",
              "    }\n",
              "\n",
              "    .dataframe thead th {\n",
              "        text-align: right;\n",
              "    }\n",
              "</style>\n",
              "<table border=\"1\" class=\"dataframe\">\n",
              "  <thead>\n",
              "    <tr style=\"text-align: right;\">\n",
              "      <th></th>\n",
              "      <th>Rating</th>\n",
              "    </tr>\n",
              "  </thead>\n",
              "  <tbody>\n",
              "    <tr>\n",
              "      <th>count</th>\n",
              "      <td>9367.000000</td>\n",
              "    </tr>\n",
              "    <tr>\n",
              "      <th>mean</th>\n",
              "      <td>4.193338</td>\n",
              "    </tr>\n",
              "    <tr>\n",
              "      <th>std</th>\n",
              "      <td>0.537431</td>\n",
              "    </tr>\n",
              "    <tr>\n",
              "      <th>min</th>\n",
              "      <td>1.000000</td>\n",
              "    </tr>\n",
              "    <tr>\n",
              "      <th>25%</th>\n",
              "      <td>4.000000</td>\n",
              "    </tr>\n",
              "    <tr>\n",
              "      <th>50%</th>\n",
              "      <td>4.300000</td>\n",
              "    </tr>\n",
              "    <tr>\n",
              "      <th>75%</th>\n",
              "      <td>4.500000</td>\n",
              "    </tr>\n",
              "    <tr>\n",
              "      <th>max</th>\n",
              "      <td>19.000000</td>\n",
              "    </tr>\n",
              "  </tbody>\n",
              "</table>\n",
              "</div>"
            ],
            "text/plain": [
              "            Rating\n",
              "count  9367.000000\n",
              "mean      4.193338\n",
              "std       0.537431\n",
              "min       1.000000\n",
              "25%       4.000000\n",
              "50%       4.300000\n",
              "75%       4.500000\n",
              "max      19.000000"
            ]
          },
          "metadata": {
            "tags": []
          },
          "execution_count": 198
        }
      ]
    },
    {
      "cell_type": "markdown",
      "metadata": {
        "id": "Ll8lBi_oLrNz"
      },
      "source": [
        "#DATA CLEANING"
      ]
    },
    {
      "cell_type": "code",
      "metadata": {
        "colab": {
          "base_uri": "https://localhost:8080/"
        },
        "id": "Z-gJGQDgu1_t",
        "outputId": "3179c4f4-58d6-4d38-ff74-59663657bf9f"
      },
      "source": [
        "df.info()          #shows number of missing values and non-null values"
      ],
      "execution_count": null,
      "outputs": [
        {
          "output_type": "stream",
          "text": [
            "<class 'pandas.core.frame.DataFrame'>\n",
            "RangeIndex: 10841 entries, 0 to 10840\n",
            "Data columns (total 13 columns):\n",
            " #   Column          Non-Null Count  Dtype  \n",
            "---  ------          --------------  -----  \n",
            " 0   App             10841 non-null  object \n",
            " 1   Category        10841 non-null  object \n",
            " 2   Rating          9367 non-null   float64\n",
            " 3   Reviews         10841 non-null  object \n",
            " 4   Size            10841 non-null  object \n",
            " 5   Installs        10841 non-null  object \n",
            " 6   Type            10840 non-null  object \n",
            " 7   Price           10841 non-null  object \n",
            " 8   Content Rating  10840 non-null  object \n",
            " 9   Genres          10841 non-null  object \n",
            " 10  Last Updated    10841 non-null  object \n",
            " 11  Current Ver     10833 non-null  object \n",
            " 12  Android Ver     10838 non-null  object \n",
            "dtypes: float64(1), object(12)\n",
            "memory usage: 1.1+ MB\n"
          ],
          "name": "stdout"
        }
      ]
    },
    {
      "cell_type": "code",
      "metadata": {
        "colab": {
          "base_uri": "https://localhost:8080/"
        },
        "id": "qARg6E9Yu3PF",
        "outputId": "cccaf7ea-0411-43bd-8eef-d30b51e113ab"
      },
      "source": [
        "df.isnull().sum()                    #counting the number of null values in each columns"
      ],
      "execution_count": null,
      "outputs": [
        {
          "output_type": "execute_result",
          "data": {
            "text/plain": [
              "App                  0\n",
              "Category             0\n",
              "Rating            1474\n",
              "Reviews              0\n",
              "Size                 0\n",
              "Installs             0\n",
              "Type                 1\n",
              "Price                0\n",
              "Content Rating       1\n",
              "Genres               0\n",
              "Last Updated         0\n",
              "Current Ver          8\n",
              "Android Ver          3\n",
              "dtype: int64"
            ]
          },
          "metadata": {
            "tags": []
          },
          "execution_count": 200
        }
      ]
    },
    {
      "cell_type": "code",
      "metadata": {
        "id": "gZIvzTSAvLA-"
      },
      "source": [
        "df1 = df.dropna()      #dropping all the null values"
      ],
      "execution_count": null,
      "outputs": []
    },
    {
      "cell_type": "code",
      "metadata": {
        "colab": {
          "base_uri": "https://localhost:8080/"
        },
        "id": "7K9KWfCjvqjB",
        "outputId": "378c77a3-8984-470b-c6c9-48c76f1d9cb4"
      },
      "source": [
        "df1.isnull().sum()"
      ],
      "execution_count": null,
      "outputs": [
        {
          "output_type": "execute_result",
          "data": {
            "text/plain": [
              "App               0\n",
              "Category          0\n",
              "Rating            0\n",
              "Reviews           0\n",
              "Size              0\n",
              "Installs          0\n",
              "Type              0\n",
              "Price             0\n",
              "Content Rating    0\n",
              "Genres            0\n",
              "Last Updated      0\n",
              "Current Ver       0\n",
              "Android Ver       0\n",
              "dtype: int64"
            ]
          },
          "metadata": {
            "tags": []
          },
          "execution_count": 202
        }
      ]
    },
    {
      "cell_type": "code",
      "metadata": {
        "id": "RDNQkQqbxOlk",
        "colab": {
          "base_uri": "https://localhost:8080/"
        },
        "outputId": "c317afd9-a2b0-4e51-87c1-57c1f6aaee17"
      },
      "source": [
        "df1.shape"
      ],
      "execution_count": null,
      "outputs": [
        {
          "output_type": "execute_result",
          "data": {
            "text/plain": [
              "(9360, 13)"
            ]
          },
          "metadata": {
            "tags": []
          },
          "execution_count": 203
        }
      ]
    },
    {
      "cell_type": "code",
      "metadata": {
        "id": "EKAmmQPdNUeY"
      },
      "source": [
        "#Converting Price, Installs and Reviews into numerical values\n",
        "df1[\"Price\"] = df1[\"Price\"].apply(lambda x: str(x).replace('$','') if '$' in str(x) else str(x))        #removing dollar sign\n",
        "df1[\"Price\"] = pd.to_numeric(df1[\"Price\"])                                                              #converting it to numeric \n",
        "df1[\"Reviews\"] = pd.to_numeric(df1[\"Reviews\"])                                                          #converting reviews to numeric\n",
        "df1[\"Installs\"] = df1[\"Installs\"].apply(lambda x: str(x).replace('+','') if '+' in str(x) else str(x))  #removing special characyers i.e.  \n",
        "df1[\"Installs\"] = df1[\"Installs\"].apply(lambda x: str(x).replace(',','') if ',' in str(x) else str(x))  # '+',',' and converting it to numeric\n",
        "df1[\"Installs\"] = pd.to_numeric(df1[\"Installs\"])\n"
      ],
      "execution_count": null,
      "outputs": []
    },
    {
      "cell_type": "code",
      "metadata": {
        "id": "tvJTxZjSPn6U"
      },
      "source": [
        "#Converting Size column from Object to Numeric\n",
        "df1['Size'] = df1.Size.apply(lambda x: x.replace('+',','))# Removing the + Sign\n",
        "df1['Size'] = df1.Size.apply(lambda x: x.replace(',', ''))# For removing the `,`\n",
        "df1['Size'] = df1.Size.apply(lambda x: x.replace('M', 'e+6'))# For converting the M to Mega\n",
        "df1['Size'] = df1.Size.apply(lambda x: x.replace('k', 'e+3'))# For convertinf the K to Kilo\n",
        "df1['Size'] = df1.Size.replace('Varies with device', np.NaN)\n",
        "df1['Size'] = pd.to_numeric(df1['Size']) # Converting the string to Numeric type\n",
        "df1.dropna(subset = ['Size'], inplace=True)     #dropping NaN values"
      ],
      "execution_count": null,
      "outputs": []
    },
    {
      "cell_type": "code",
      "metadata": {
        "colab": {
          "base_uri": "https://localhost:8080/"
        },
        "id": "-mEQOmTzYrUi",
        "outputId": "05861c50-e42e-4807-c002-0f177a41922b"
      },
      "source": [
        "df1.info()"
      ],
      "execution_count": null,
      "outputs": [
        {
          "output_type": "stream",
          "text": [
            "<class 'pandas.core.frame.DataFrame'>\n",
            "Int64Index: 7723 entries, 0 to 10840\n",
            "Data columns (total 13 columns):\n",
            " #   Column          Non-Null Count  Dtype  \n",
            "---  ------          --------------  -----  \n",
            " 0   App             7723 non-null   object \n",
            " 1   Category        7723 non-null   object \n",
            " 2   Rating          7723 non-null   float64\n",
            " 3   Reviews         7723 non-null   int64  \n",
            " 4   Size            7723 non-null   float64\n",
            " 5   Installs        7723 non-null   int64  \n",
            " 6   Type            7723 non-null   object \n",
            " 7   Price           7723 non-null   float64\n",
            " 8   Content Rating  7723 non-null   object \n",
            " 9   Genres          7723 non-null   object \n",
            " 10  Last Updated    7723 non-null   object \n",
            " 11  Current Ver     7723 non-null   object \n",
            " 12  Android Ver     7723 non-null   object \n",
            "dtypes: float64(3), int64(2), object(8)\n",
            "memory usage: 844.7+ KB\n"
          ],
          "name": "stdout"
        }
      ]
    },
    {
      "cell_type": "code",
      "metadata": {
        "colab": {
          "base_uri": "https://localhost:8080/",
          "height": 705
        },
        "id": "hI9jaCHWQMaH",
        "outputId": "7578b4ca-31e1-4e1d-9ed6-a1517d766326"
      },
      "source": [
        "df1.head(10)"
      ],
      "execution_count": null,
      "outputs": [
        {
          "output_type": "execute_result",
          "data": {
            "text/html": [
              "<div>\n",
              "<style scoped>\n",
              "    .dataframe tbody tr th:only-of-type {\n",
              "        vertical-align: middle;\n",
              "    }\n",
              "\n",
              "    .dataframe tbody tr th {\n",
              "        vertical-align: top;\n",
              "    }\n",
              "\n",
              "    .dataframe thead th {\n",
              "        text-align: right;\n",
              "    }\n",
              "</style>\n",
              "<table border=\"1\" class=\"dataframe\">\n",
              "  <thead>\n",
              "    <tr style=\"text-align: right;\">\n",
              "      <th></th>\n",
              "      <th>App</th>\n",
              "      <th>Category</th>\n",
              "      <th>Rating</th>\n",
              "      <th>Reviews</th>\n",
              "      <th>Size</th>\n",
              "      <th>Installs</th>\n",
              "      <th>Type</th>\n",
              "      <th>Price</th>\n",
              "      <th>Content Rating</th>\n",
              "      <th>Genres</th>\n",
              "      <th>Last Updated</th>\n",
              "      <th>Current Ver</th>\n",
              "      <th>Android Ver</th>\n",
              "    </tr>\n",
              "  </thead>\n",
              "  <tbody>\n",
              "    <tr>\n",
              "      <th>0</th>\n",
              "      <td>Photo Editor &amp; Candy Camera &amp; Grid &amp; ScrapBook</td>\n",
              "      <td>ART_AND_DESIGN</td>\n",
              "      <td>4.1</td>\n",
              "      <td>159</td>\n",
              "      <td>19000000.0</td>\n",
              "      <td>10000</td>\n",
              "      <td>Free</td>\n",
              "      <td>0.0</td>\n",
              "      <td>Everyone</td>\n",
              "      <td>Art &amp; Design</td>\n",
              "      <td>January 7, 2018</td>\n",
              "      <td>1.0.0</td>\n",
              "      <td>4.0.3 and up</td>\n",
              "    </tr>\n",
              "    <tr>\n",
              "      <th>1</th>\n",
              "      <td>Coloring book moana</td>\n",
              "      <td>ART_AND_DESIGN</td>\n",
              "      <td>3.9</td>\n",
              "      <td>967</td>\n",
              "      <td>14000000.0</td>\n",
              "      <td>500000</td>\n",
              "      <td>Free</td>\n",
              "      <td>0.0</td>\n",
              "      <td>Everyone</td>\n",
              "      <td>Art &amp; Design;Pretend Play</td>\n",
              "      <td>January 15, 2018</td>\n",
              "      <td>2.0.0</td>\n",
              "      <td>4.0.3 and up</td>\n",
              "    </tr>\n",
              "    <tr>\n",
              "      <th>2</th>\n",
              "      <td>U Launcher Lite – FREE Live Cool Themes, Hide ...</td>\n",
              "      <td>ART_AND_DESIGN</td>\n",
              "      <td>4.7</td>\n",
              "      <td>87510</td>\n",
              "      <td>8700000.0</td>\n",
              "      <td>5000000</td>\n",
              "      <td>Free</td>\n",
              "      <td>0.0</td>\n",
              "      <td>Everyone</td>\n",
              "      <td>Art &amp; Design</td>\n",
              "      <td>August 1, 2018</td>\n",
              "      <td>1.2.4</td>\n",
              "      <td>4.0.3 and up</td>\n",
              "    </tr>\n",
              "    <tr>\n",
              "      <th>3</th>\n",
              "      <td>Sketch - Draw &amp; Paint</td>\n",
              "      <td>ART_AND_DESIGN</td>\n",
              "      <td>4.5</td>\n",
              "      <td>215644</td>\n",
              "      <td>25000000.0</td>\n",
              "      <td>50000000</td>\n",
              "      <td>Free</td>\n",
              "      <td>0.0</td>\n",
              "      <td>Teen</td>\n",
              "      <td>Art &amp; Design</td>\n",
              "      <td>June 8, 2018</td>\n",
              "      <td>Varies with device</td>\n",
              "      <td>4.2 and up</td>\n",
              "    </tr>\n",
              "    <tr>\n",
              "      <th>4</th>\n",
              "      <td>Pixel Draw - Number Art Coloring Book</td>\n",
              "      <td>ART_AND_DESIGN</td>\n",
              "      <td>4.3</td>\n",
              "      <td>967</td>\n",
              "      <td>2800000.0</td>\n",
              "      <td>100000</td>\n",
              "      <td>Free</td>\n",
              "      <td>0.0</td>\n",
              "      <td>Everyone</td>\n",
              "      <td>Art &amp; Design;Creativity</td>\n",
              "      <td>June 20, 2018</td>\n",
              "      <td>1.1</td>\n",
              "      <td>4.4 and up</td>\n",
              "    </tr>\n",
              "    <tr>\n",
              "      <th>5</th>\n",
              "      <td>Paper flowers instructions</td>\n",
              "      <td>ART_AND_DESIGN</td>\n",
              "      <td>4.4</td>\n",
              "      <td>167</td>\n",
              "      <td>5600000.0</td>\n",
              "      <td>50000</td>\n",
              "      <td>Free</td>\n",
              "      <td>0.0</td>\n",
              "      <td>Everyone</td>\n",
              "      <td>Art &amp; Design</td>\n",
              "      <td>March 26, 2017</td>\n",
              "      <td>1.0</td>\n",
              "      <td>2.3 and up</td>\n",
              "    </tr>\n",
              "    <tr>\n",
              "      <th>6</th>\n",
              "      <td>Smoke Effect Photo Maker - Smoke Editor</td>\n",
              "      <td>ART_AND_DESIGN</td>\n",
              "      <td>3.8</td>\n",
              "      <td>178</td>\n",
              "      <td>19000000.0</td>\n",
              "      <td>50000</td>\n",
              "      <td>Free</td>\n",
              "      <td>0.0</td>\n",
              "      <td>Everyone</td>\n",
              "      <td>Art &amp; Design</td>\n",
              "      <td>April 26, 2018</td>\n",
              "      <td>1.1</td>\n",
              "      <td>4.0.3 and up</td>\n",
              "    </tr>\n",
              "    <tr>\n",
              "      <th>7</th>\n",
              "      <td>Infinite Painter</td>\n",
              "      <td>ART_AND_DESIGN</td>\n",
              "      <td>4.1</td>\n",
              "      <td>36815</td>\n",
              "      <td>29000000.0</td>\n",
              "      <td>1000000</td>\n",
              "      <td>Free</td>\n",
              "      <td>0.0</td>\n",
              "      <td>Everyone</td>\n",
              "      <td>Art &amp; Design</td>\n",
              "      <td>June 14, 2018</td>\n",
              "      <td>6.1.61.1</td>\n",
              "      <td>4.2 and up</td>\n",
              "    </tr>\n",
              "    <tr>\n",
              "      <th>8</th>\n",
              "      <td>Garden Coloring Book</td>\n",
              "      <td>ART_AND_DESIGN</td>\n",
              "      <td>4.4</td>\n",
              "      <td>13791</td>\n",
              "      <td>33000000.0</td>\n",
              "      <td>1000000</td>\n",
              "      <td>Free</td>\n",
              "      <td>0.0</td>\n",
              "      <td>Everyone</td>\n",
              "      <td>Art &amp; Design</td>\n",
              "      <td>September 20, 2017</td>\n",
              "      <td>2.9.2</td>\n",
              "      <td>3.0 and up</td>\n",
              "    </tr>\n",
              "    <tr>\n",
              "      <th>9</th>\n",
              "      <td>Kids Paint Free - Drawing Fun</td>\n",
              "      <td>ART_AND_DESIGN</td>\n",
              "      <td>4.7</td>\n",
              "      <td>121</td>\n",
              "      <td>3100000.0</td>\n",
              "      <td>10000</td>\n",
              "      <td>Free</td>\n",
              "      <td>0.0</td>\n",
              "      <td>Everyone</td>\n",
              "      <td>Art &amp; Design;Creativity</td>\n",
              "      <td>July 3, 2018</td>\n",
              "      <td>2.8</td>\n",
              "      <td>4.0.3 and up</td>\n",
              "    </tr>\n",
              "  </tbody>\n",
              "</table>\n",
              "</div>"
            ],
            "text/plain": [
              "                                                 App  ...   Android Ver\n",
              "0     Photo Editor & Candy Camera & Grid & ScrapBook  ...  4.0.3 and up\n",
              "1                                Coloring book moana  ...  4.0.3 and up\n",
              "2  U Launcher Lite – FREE Live Cool Themes, Hide ...  ...  4.0.3 and up\n",
              "3                              Sketch - Draw & Paint  ...    4.2 and up\n",
              "4              Pixel Draw - Number Art Coloring Book  ...    4.4 and up\n",
              "5                         Paper flowers instructions  ...    2.3 and up\n",
              "6            Smoke Effect Photo Maker - Smoke Editor  ...  4.0.3 and up\n",
              "7                                   Infinite Painter  ...    4.2 and up\n",
              "8                               Garden Coloring Book  ...    3.0 and up\n",
              "9                      Kids Paint Free - Drawing Fun  ...  4.0.3 and up\n",
              "\n",
              "[10 rows x 13 columns]"
            ]
          },
          "metadata": {
            "tags": []
          },
          "execution_count": 207
        }
      ]
    },
    {
      "cell_type": "code",
      "metadata": {
        "colab": {
          "base_uri": "https://localhost:8080/",
          "height": 294
        },
        "id": "XYLF7Q1nQP4s",
        "outputId": "1f71e5dd-48de-4c1b-922e-8d07a6d8a441"
      },
      "source": [
        "df1.describe()"
      ],
      "execution_count": null,
      "outputs": [
        {
          "output_type": "execute_result",
          "data": {
            "text/html": [
              "<div>\n",
              "<style scoped>\n",
              "    .dataframe tbody tr th:only-of-type {\n",
              "        vertical-align: middle;\n",
              "    }\n",
              "\n",
              "    .dataframe tbody tr th {\n",
              "        vertical-align: top;\n",
              "    }\n",
              "\n",
              "    .dataframe thead th {\n",
              "        text-align: right;\n",
              "    }\n",
              "</style>\n",
              "<table border=\"1\" class=\"dataframe\">\n",
              "  <thead>\n",
              "    <tr style=\"text-align: right;\">\n",
              "      <th></th>\n",
              "      <th>Rating</th>\n",
              "      <th>Reviews</th>\n",
              "      <th>Size</th>\n",
              "      <th>Installs</th>\n",
              "      <th>Price</th>\n",
              "    </tr>\n",
              "  </thead>\n",
              "  <tbody>\n",
              "    <tr>\n",
              "      <th>count</th>\n",
              "      <td>7723.000000</td>\n",
              "      <td>7.723000e+03</td>\n",
              "      <td>7.723000e+03</td>\n",
              "      <td>7.723000e+03</td>\n",
              "      <td>7723.000000</td>\n",
              "    </tr>\n",
              "    <tr>\n",
              "      <th>mean</th>\n",
              "      <td>4.173935</td>\n",
              "      <td>2.948983e+05</td>\n",
              "      <td>2.297046e+07</td>\n",
              "      <td>8.424070e+06</td>\n",
              "      <td>1.128169</td>\n",
              "    </tr>\n",
              "    <tr>\n",
              "      <th>std</th>\n",
              "      <td>0.544638</td>\n",
              "      <td>1.863933e+06</td>\n",
              "      <td>2.344963e+07</td>\n",
              "      <td>5.015742e+07</td>\n",
              "      <td>17.408036</td>\n",
              "    </tr>\n",
              "    <tr>\n",
              "      <th>min</th>\n",
              "      <td>1.000000</td>\n",
              "      <td>1.000000e+00</td>\n",
              "      <td>8.500000e+03</td>\n",
              "      <td>1.000000e+00</td>\n",
              "      <td>0.000000</td>\n",
              "    </tr>\n",
              "    <tr>\n",
              "      <th>25%</th>\n",
              "      <td>4.000000</td>\n",
              "      <td>1.075000e+02</td>\n",
              "      <td>5.300000e+06</td>\n",
              "      <td>1.000000e+04</td>\n",
              "      <td>0.000000</td>\n",
              "    </tr>\n",
              "    <tr>\n",
              "      <th>50%</th>\n",
              "      <td>4.300000</td>\n",
              "      <td>2.332000e+03</td>\n",
              "      <td>1.400000e+07</td>\n",
              "      <td>1.000000e+05</td>\n",
              "      <td>0.000000</td>\n",
              "    </tr>\n",
              "    <tr>\n",
              "      <th>75%</th>\n",
              "      <td>4.500000</td>\n",
              "      <td>3.905300e+04</td>\n",
              "      <td>3.300000e+07</td>\n",
              "      <td>1.000000e+06</td>\n",
              "      <td>0.000000</td>\n",
              "    </tr>\n",
              "    <tr>\n",
              "      <th>max</th>\n",
              "      <td>5.000000</td>\n",
              "      <td>4.489389e+07</td>\n",
              "      <td>1.000000e+08</td>\n",
              "      <td>1.000000e+09</td>\n",
              "      <td>400.000000</td>\n",
              "    </tr>\n",
              "  </tbody>\n",
              "</table>\n",
              "</div>"
            ],
            "text/plain": [
              "            Rating       Reviews          Size      Installs        Price\n",
              "count  7723.000000  7.723000e+03  7.723000e+03  7.723000e+03  7723.000000\n",
              "mean      4.173935  2.948983e+05  2.297046e+07  8.424070e+06     1.128169\n",
              "std       0.544638  1.863933e+06  2.344963e+07  5.015742e+07    17.408036\n",
              "min       1.000000  1.000000e+00  8.500000e+03  1.000000e+00     0.000000\n",
              "25%       4.000000  1.075000e+02  5.300000e+06  1.000000e+04     0.000000\n",
              "50%       4.300000  2.332000e+03  1.400000e+07  1.000000e+05     0.000000\n",
              "75%       4.500000  3.905300e+04  3.300000e+07  1.000000e+06     0.000000\n",
              "max       5.000000  4.489389e+07  1.000000e+08  1.000000e+09   400.000000"
            ]
          },
          "metadata": {
            "tags": []
          },
          "execution_count": 208
        }
      ]
    },
    {
      "cell_type": "code",
      "metadata": {
        "colab": {
          "base_uri": "https://localhost:8080/"
        },
        "id": "A3M83PpCO0IK",
        "outputId": "0fad9e75-4806-41d6-c96f-7ee6f8eb630a"
      },
      "source": [
        "df1.Rating.describe()"
      ],
      "execution_count": null,
      "outputs": [
        {
          "output_type": "execute_result",
          "data": {
            "text/plain": [
              "count    7723.000000\n",
              "mean        4.173935\n",
              "std         0.544638\n",
              "min         1.000000\n",
              "25%         4.000000\n",
              "50%         4.300000\n",
              "75%         4.500000\n",
              "max         5.000000\n",
              "Name: Rating, dtype: float64"
            ]
          },
          "metadata": {
            "tags": []
          },
          "execution_count": 209
        }
      ]
    },
    {
      "cell_type": "code",
      "metadata": {
        "colab": {
          "base_uri": "https://localhost:8080/"
        },
        "id": "amSNcrvPPCjT",
        "outputId": "03221735-9827-43a1-ac52-484f08bceb21"
      },
      "source": [
        "df1.Category.unique()      #unique values in Category column"
      ],
      "execution_count": null,
      "outputs": [
        {
          "output_type": "execute_result",
          "data": {
            "text/plain": [
              "array(['ART_AND_DESIGN', 'AUTO_AND_VEHICLES', 'BEAUTY',\n",
              "       'BOOKS_AND_REFERENCE', 'BUSINESS', 'COMICS', 'COMMUNICATION',\n",
              "       'DATING', 'EDUCATION', 'ENTERTAINMENT', 'EVENTS', 'FINANCE',\n",
              "       'FOOD_AND_DRINK', 'HEALTH_AND_FITNESS', 'HOUSE_AND_HOME',\n",
              "       'LIBRARIES_AND_DEMO', 'LIFESTYLE', 'GAME', 'FAMILY', 'MEDICAL',\n",
              "       'SOCIAL', 'SHOPPING', 'PHOTOGRAPHY', 'SPORTS', 'TRAVEL_AND_LOCAL',\n",
              "       'TOOLS', 'PERSONALIZATION', 'PRODUCTIVITY', 'PARENTING', 'WEATHER',\n",
              "       'VIDEO_PLAYERS', 'NEWS_AND_MAGAZINES', 'MAPS_AND_NAVIGATION'],\n",
              "      dtype=object)"
            ]
          },
          "metadata": {
            "tags": []
          },
          "execution_count": 210
        }
      ]
    },
    {
      "cell_type": "code",
      "metadata": {
        "colab": {
          "base_uri": "https://localhost:8080/"
        },
        "id": "z1RTTWoMPHAw",
        "outputId": "8dde487a-a025-4773-912c-57f36217057b"
      },
      "source": [
        "df1.Category.value_counts()      #Number of Unique values"
      ],
      "execution_count": null,
      "outputs": [
        {
          "output_type": "execute_result",
          "data": {
            "text/plain": [
              "FAMILY                 1616\n",
              "GAME                    974\n",
              "TOOLS                   633\n",
              "MEDICAL                 324\n",
              "LIFESTYLE               280\n",
              "PERSONALIZATION         278\n",
              "FINANCE                 266\n",
              "SPORTS                  247\n",
              "BUSINESS                246\n",
              "PHOTOGRAPHY             236\n",
              "PRODUCTIVITY            235\n",
              "HEALTH_AND_FITNESS      223\n",
              "COMMUNICATION           211\n",
              "SHOPPING                179\n",
              "SOCIAL                  177\n",
              "DATING                  173\n",
              "NEWS_AND_MAGAZINES      169\n",
              "TRAVEL_AND_LOCAL        160\n",
              "BOOKS_AND_REFERENCE     144\n",
              "VIDEO_PLAYERS           116\n",
              "EDUCATION               110\n",
              "MAPS_AND_NAVIGATION      95\n",
              "ENTERTAINMENT            90\n",
              "FOOD_AND_DRINK           84\n",
              "AUTO_AND_VEHICLES        63\n",
              "LIBRARIES_AND_DEMO       61\n",
              "ART_AND_DESIGN           58\n",
              "HOUSE_AND_HOME           56\n",
              "WEATHER                  51\n",
              "COMICS                   49\n",
              "PARENTING                44\n",
              "EVENTS                   38\n",
              "BEAUTY                   37\n",
              "Name: Category, dtype: int64"
            ]
          },
          "metadata": {
            "tags": []
          },
          "execution_count": 211
        }
      ]
    },
    {
      "cell_type": "code",
      "metadata": {
        "colab": {
          "base_uri": "https://localhost:8080/",
          "height": 264
        },
        "id": "11wFC1i_PLoO",
        "outputId": "488b7960-19f4-455f-c887-f4f68849b42c"
      },
      "source": [
        "plt.hist(df1.Rating,bins=20,edgecolor='k')\n",
        "plt.show()"
      ],
      "execution_count": null,
      "outputs": [
        {
          "output_type": "display_data",
          "data": {
            "image/png": "[encoded data removed]",
            "text/plain": [
              "<Figure size 432x288 with 1 Axes>"
            ]
          },
          "metadata": {
            "tags": [],
            "needs_background": "light"
          }
        }
      ]
    },
    {
      "cell_type": "code",
      "metadata": {
        "colab": {
          "base_uri": "https://localhost:8080/"
        },
        "id": "9WutNJJgPjc6",
        "outputId": "34d2c626-210a-4340-c96f-b862b5021baa"
      },
      "source": [
        "df1.select_dtypes(include='object').columns     #select dataset of object type"
      ],
      "execution_count": null,
      "outputs": [
        {
          "output_type": "execute_result",
          "data": {
            "text/plain": [
              "Index(['App', 'Category', 'Type', 'Content Rating', 'Genres', 'Last Updated',\n",
              "       'Current Ver', 'Android Ver'],\n",
              "      dtype='object')"
            ]
          },
          "metadata": {
            "tags": []
          },
          "execution_count": 213
        }
      ]
    },
    {
      "cell_type": "code",
      "metadata": {
        "colab": {
          "base_uri": "https://localhost:8080/",
          "height": 564
        },
        "id": "mSIWUjLFPmE5",
        "outputId": "ddbf7d64-9543-4a36-9c67-0875364cd245"
      },
      "source": [
        "cat_col=df1.select_dtypes(include='object')    #categorical column\n",
        "cat_col"
      ],
      "execution_count": null,
      "outputs": [
        {
          "output_type": "execute_result",
          "data": {
            "text/html": [
              "<div>\n",
              "<style scoped>\n",
              "    .dataframe tbody tr th:only-of-type {\n",
              "        vertical-align: middle;\n",
              "    }\n",
              "\n",
              "    .dataframe tbody tr th {\n",
              "        vertical-align: top;\n",
              "    }\n",
              "\n",
              "    .dataframe thead th {\n",
              "        text-align: right;\n",
              "    }\n",
              "</style>\n",
              "<table border=\"1\" class=\"dataframe\">\n",
              "  <thead>\n",
              "    <tr style=\"text-align: right;\">\n",
              "      <th></th>\n",
              "      <th>App</th>\n",
              "      <th>Category</th>\n",
              "      <th>Type</th>\n",
              "      <th>Content Rating</th>\n",
              "      <th>Genres</th>\n",
              "      <th>Last Updated</th>\n",
              "      <th>Current Ver</th>\n",
              "      <th>Android Ver</th>\n",
              "    </tr>\n",
              "  </thead>\n",
              "  <tbody>\n",
              "    <tr>\n",
              "      <th>0</th>\n",
              "      <td>Photo Editor &amp; Candy Camera &amp; Grid &amp; ScrapBook</td>\n",
              "      <td>ART_AND_DESIGN</td>\n",
              "      <td>Free</td>\n",
              "      <td>Everyone</td>\n",
              "      <td>Art &amp; Design</td>\n",
              "      <td>January 7, 2018</td>\n",
              "      <td>1.0.0</td>\n",
              "      <td>4.0.3 and up</td>\n",
              "    </tr>\n",
              "    <tr>\n",
              "      <th>1</th>\n",
              "      <td>Coloring book moana</td>\n",
              "      <td>ART_AND_DESIGN</td>\n",
              "      <td>Free</td>\n",
              "      <td>Everyone</td>\n",
              "      <td>Art &amp; Design;Pretend Play</td>\n",
              "      <td>January 15, 2018</td>\n",
              "      <td>2.0.0</td>\n",
              "      <td>4.0.3 and up</td>\n",
              "    </tr>\n",
              "    <tr>\n",
              "      <th>2</th>\n",
              "      <td>U Launcher Lite – FREE Live Cool Themes, Hide ...</td>\n",
              "      <td>ART_AND_DESIGN</td>\n",
              "      <td>Free</td>\n",
              "      <td>Everyone</td>\n",
              "      <td>Art &amp; Design</td>\n",
              "      <td>August 1, 2018</td>\n",
              "      <td>1.2.4</td>\n",
              "      <td>4.0.3 and up</td>\n",
              "    </tr>\n",
              "    <tr>\n",
              "      <th>3</th>\n",
              "      <td>Sketch - Draw &amp; Paint</td>\n",
              "      <td>ART_AND_DESIGN</td>\n",
              "      <td>Free</td>\n",
              "      <td>Teen</td>\n",
              "      <td>Art &amp; Design</td>\n",
              "      <td>June 8, 2018</td>\n",
              "      <td>Varies with device</td>\n",
              "      <td>4.2 and up</td>\n",
              "    </tr>\n",
              "    <tr>\n",
              "      <th>4</th>\n",
              "      <td>Pixel Draw - Number Art Coloring Book</td>\n",
              "      <td>ART_AND_DESIGN</td>\n",
              "      <td>Free</td>\n",
              "      <td>Everyone</td>\n",
              "      <td>Art &amp; Design;Creativity</td>\n",
              "      <td>June 20, 2018</td>\n",
              "      <td>1.1</td>\n",
              "      <td>4.4 and up</td>\n",
              "    </tr>\n",
              "    <tr>\n",
              "      <th>...</th>\n",
              "      <td>...</td>\n",
              "      <td>...</td>\n",
              "      <td>...</td>\n",
              "      <td>...</td>\n",
              "      <td>...</td>\n",
              "      <td>...</td>\n",
              "      <td>...</td>\n",
              "      <td>...</td>\n",
              "    </tr>\n",
              "    <tr>\n",
              "      <th>10833</th>\n",
              "      <td>Chemin (fr)</td>\n",
              "      <td>BOOKS_AND_REFERENCE</td>\n",
              "      <td>Free</td>\n",
              "      <td>Everyone</td>\n",
              "      <td>Books &amp; Reference</td>\n",
              "      <td>March 23, 2014</td>\n",
              "      <td>0.8</td>\n",
              "      <td>2.2 and up</td>\n",
              "    </tr>\n",
              "    <tr>\n",
              "      <th>10834</th>\n",
              "      <td>FR Calculator</td>\n",
              "      <td>FAMILY</td>\n",
              "      <td>Free</td>\n",
              "      <td>Everyone</td>\n",
              "      <td>Education</td>\n",
              "      <td>June 18, 2017</td>\n",
              "      <td>1.0.0</td>\n",
              "      <td>4.1 and up</td>\n",
              "    </tr>\n",
              "    <tr>\n",
              "      <th>10836</th>\n",
              "      <td>Sya9a Maroc - FR</td>\n",
              "      <td>FAMILY</td>\n",
              "      <td>Free</td>\n",
              "      <td>Everyone</td>\n",
              "      <td>Education</td>\n",
              "      <td>July 25, 2017</td>\n",
              "      <td>1.48</td>\n",
              "      <td>4.1 and up</td>\n",
              "    </tr>\n",
              "    <tr>\n",
              "      <th>10837</th>\n",
              "      <td>Fr. Mike Schmitz Audio Teachings</td>\n",
              "      <td>FAMILY</td>\n",
              "      <td>Free</td>\n",
              "      <td>Everyone</td>\n",
              "      <td>Education</td>\n",
              "      <td>July 6, 2018</td>\n",
              "      <td>1.0</td>\n",
              "      <td>4.1 and up</td>\n",
              "    </tr>\n",
              "    <tr>\n",
              "      <th>10840</th>\n",
              "      <td>iHoroscope - 2018 Daily Horoscope &amp; Astrology</td>\n",
              "      <td>LIFESTYLE</td>\n",
              "      <td>Free</td>\n",
              "      <td>Everyone</td>\n",
              "      <td>Lifestyle</td>\n",
              "      <td>July 25, 2018</td>\n",
              "      <td>Varies with device</td>\n",
              "      <td>Varies with device</td>\n",
              "    </tr>\n",
              "  </tbody>\n",
              "</table>\n",
              "<p>7723 rows × 8 columns</p>\n",
              "</div>"
            ],
            "text/plain": [
              "                                                     App  ...         Android Ver\n",
              "0         Photo Editor & Candy Camera & Grid & ScrapBook  ...        4.0.3 and up\n",
              "1                                    Coloring book moana  ...        4.0.3 and up\n",
              "2      U Launcher Lite – FREE Live Cool Themes, Hide ...  ...        4.0.3 and up\n",
              "3                                  Sketch - Draw & Paint  ...          4.2 and up\n",
              "4                  Pixel Draw - Number Art Coloring Book  ...          4.4 and up\n",
              "...                                                  ...  ...                 ...\n",
              "10833                                        Chemin (fr)  ...          2.2 and up\n",
              "10834                                      FR Calculator  ...          4.1 and up\n",
              "10836                                   Sya9a Maroc - FR  ...          4.1 and up\n",
              "10837                   Fr. Mike Schmitz Audio Teachings  ...          4.1 and up\n",
              "10840      iHoroscope - 2018 Daily Horoscope & Astrology  ...  Varies with device\n",
              "\n",
              "[7723 rows x 8 columns]"
            ]
          },
          "metadata": {
            "tags": []
          },
          "execution_count": 214
        }
      ]
    },
    {
      "cell_type": "code",
      "metadata": {
        "colab": {
          "base_uri": "https://localhost:8080/"
        },
        "id": "t1Qh53d9Ps76",
        "outputId": "d8a6f5f0-2ae0-4113-c5d7-f852e2cf6a4d"
      },
      "source": [
        "cat_col.apply(lambda x: x.unique())       #Unique values  "
      ],
      "execution_count": null,
      "outputs": [
        {
          "output_type": "execute_result",
          "data": {
            "text/plain": [
              "App               [Photo Editor & Candy Camera & Grid & ScrapBoo...\n",
              "Category          [ART_AND_DESIGN, AUTO_AND_VEHICLES, BEAUTY, BO...\n",
              "Type                                                   [Free, Paid]\n",
              "Content Rating    [Everyone, Teen, Everyone 10+, Mature 17+, Adu...\n",
              "Genres            [Art & Design, Art & Design;Pretend Play, Art ...\n",
              "Last Updated      [January 7, 2018, January 15, 2018, August 1, ...\n",
              "Current Ver       [1.0.0, 2.0.0, 1.2.4, Varies with device, 1.1,...\n",
              "Android Ver       [4.0.3 and up, 4.2 and up, 4.4 and up, 2.3 and...\n",
              "dtype: object"
            ]
          },
          "metadata": {
            "tags": []
          },
          "execution_count": 215
        }
      ]
    },
    {
      "cell_type": "code",
      "metadata": {
        "colab": {
          "base_uri": "https://localhost:8080/"
        },
        "id": "e6VF24eFP65t",
        "outputId": "5c98a670-bbe5-4c50-c0d4-9e4b8513cc14"
      },
      "source": [
        "df1.Type.value_counts()"
      ],
      "execution_count": null,
      "outputs": [
        {
          "output_type": "execute_result",
          "data": {
            "text/plain": [
              "Free    7146\n",
              "Paid     577\n",
              "Name: Type, dtype: int64"
            ]
          },
          "metadata": {
            "tags": []
          },
          "execution_count": 216
        }
      ]
    },
    {
      "cell_type": "code",
      "metadata": {
        "colab": {
          "base_uri": "https://localhost:8080/"
        },
        "id": "8q1NC9QHQB16",
        "outputId": "63806859-ff7f-483f-9e5f-43e7ad472283"
      },
      "source": [
        "df1.Type.value_counts()/df1.shape[0]"
      ],
      "execution_count": null,
      "outputs": [
        {
          "output_type": "execute_result",
          "data": {
            "text/plain": [
              "Free    0.925288\n",
              "Paid    0.074712\n",
              "Name: Type, dtype: float64"
            ]
          },
          "metadata": {
            "tags": []
          },
          "execution_count": 217
        }
      ]
    },
    {
      "cell_type": "code",
      "metadata": {
        "colab": {
          "base_uri": "https://localhost:8080/",
          "height": 293
        },
        "id": "hXoU2HJ-QMXD",
        "outputId": "3baf02c5-cea2-40db-a554-75416de22eec"
      },
      "source": [
        "(df1.Type.value_counts()/df1.shape[0]).plot(kind='bar')\n"
      ],
      "execution_count": null,
      "outputs": [
        {
          "output_type": "execute_result",
          "data": {
            "text/plain": [
              "<matplotlib.axes._subplots.AxesSubplot at 0x7f67b1f5e990>"
            ]
          },
          "metadata": {
            "tags": []
          },
          "execution_count": 218
        },
        {
          "output_type": "display_data",
          "data": {
            "image/png": "[encoded data removed]",
            "text/plain": [
              "<Figure size 432x288 with 1 Axes>"
            ]
          },
          "metadata": {
            "tags": [],
            "needs_background": "light"
          }
        }
      ]
    },
    {
      "cell_type": "code",
      "metadata": {
        "colab": {
          "base_uri": "https://localhost:8080/",
          "height": 278
        },
        "id": "1jAHD6mYWuhi",
        "outputId": "8cc36ab9-f3e5-4fac-9f7e-3a3cf00675ae"
      },
      "source": [
        "sns.countplot(x='Type',data=df1)\n",
        "plt.show()"
      ],
      "execution_count": null,
      "outputs": [
        {
          "output_type": "display_data",
          "data": {
            "image/png": "[encoded data removed]",
            "text/plain": [
              "<Figure size 432x288 with 1 Axes>"
            ]
          },
          "metadata": {
            "tags": [],
            "needs_background": "light"
          }
        }
      ]
    },
    {
      "cell_type": "markdown",
      "metadata": {
        "id": "wuHRBSnnSYdN"
      },
      "source": [
        "#Data Visualization"
      ]
    },
    {
      "cell_type": "markdown",
      "metadata": {
        "id": "U9xDEK5SdBn_"
      },
      "source": [
        "* Q1. Category Wise Rating"
      ]
    },
    {
      "cell_type": "code",
      "metadata": {
        "colab": {
          "base_uri": "https://localhost:8080/"
        },
        "id": "P-rZeDL9f32F",
        "outputId": "77edde2e-edde-4cc3-d4bc-b642b3a91ed9"
      },
      "source": [
        "df1['Category'].value_counts"
      ],
      "execution_count": null,
      "outputs": [
        {
          "output_type": "execute_result",
          "data": {
            "text/plain": [
              "<bound method IndexOpsMixin.value_counts of 0             ART_AND_DESIGN\n",
              "1             ART_AND_DESIGN\n",
              "2             ART_AND_DESIGN\n",
              "3             ART_AND_DESIGN\n",
              "4             ART_AND_DESIGN\n",
              "                ...         \n",
              "10833    BOOKS_AND_REFERENCE\n",
              "10834                 FAMILY\n",
              "10836                 FAMILY\n",
              "10837                 FAMILY\n",
              "10840              LIFESTYLE\n",
              "Name: Category, Length: 7723, dtype: object>"
            ]
          },
          "metadata": {
            "tags": []
          },
          "execution_count": 220
        }
      ]
    },
    {
      "cell_type": "code",
      "metadata": {
        "colab": {
          "base_uri": "https://localhost:8080/"
        },
        "id": "rwAgd-g2eRlt",
        "outputId": "060ad6c3-146f-4a28-b279-52a5ca178d14"
      },
      "source": [
        "df1['Category'].unique()"
      ],
      "execution_count": null,
      "outputs": [
        {
          "output_type": "execute_result",
          "data": {
            "text/plain": [
              "array(['ART_AND_DESIGN', 'AUTO_AND_VEHICLES', 'BEAUTY',\n",
              "       'BOOKS_AND_REFERENCE', 'BUSINESS', 'COMICS', 'COMMUNICATION',\n",
              "       'DATING', 'EDUCATION', 'ENTERTAINMENT', 'EVENTS', 'FINANCE',\n",
              "       'FOOD_AND_DRINK', 'HEALTH_AND_FITNESS', 'HOUSE_AND_HOME',\n",
              "       'LIBRARIES_AND_DEMO', 'LIFESTYLE', 'GAME', 'FAMILY', 'MEDICAL',\n",
              "       'SOCIAL', 'SHOPPING', 'PHOTOGRAPHY', 'SPORTS', 'TRAVEL_AND_LOCAL',\n",
              "       'TOOLS', 'PERSONALIZATION', 'PRODUCTIVITY', 'PARENTING', 'WEATHER',\n",
              "       'VIDEO_PLAYERS', 'NEWS_AND_MAGAZINES', 'MAPS_AND_NAVIGATION'],\n",
              "      dtype=object)"
            ]
          },
          "metadata": {
            "tags": []
          },
          "execution_count": 221
        }
      ]
    },
    {
      "cell_type": "code",
      "metadata": {
        "colab": {
          "base_uri": "https://localhost:8080/"
        },
        "id": "mhB5OWKGenFu",
        "outputId": "b9f2095e-105e-466e-d36f-987f6d1503ad"
      },
      "source": [
        "df1['Rating']"
      ],
      "execution_count": null,
      "outputs": [
        {
          "output_type": "execute_result",
          "data": {
            "text/plain": [
              "0        4.1\n",
              "1        3.9\n",
              "2        4.7\n",
              "3        4.5\n",
              "4        4.3\n",
              "        ... \n",
              "10833    4.8\n",
              "10834    4.0\n",
              "10836    4.5\n",
              "10837    5.0\n",
              "10840    4.5\n",
              "Name: Rating, Length: 7723, dtype: float64"
            ]
          },
          "metadata": {
            "tags": []
          },
          "execution_count": 222
        }
      ]
    },
    {
      "cell_type": "code",
      "metadata": {
        "colab": {
          "base_uri": "https://localhost:8080/",
          "height": 465
        },
        "id": "SGS2PoxISXn-",
        "outputId": "b7e01f0e-90ea-437f-92b4-fa6fb3f0886c"
      },
      "source": [
        "plt.figure(figsize=(16,5))\n",
        "plt.title('Category Wise Rating')\n",
        "plt.xlabel('Categories')\n",
        "plt.ylabel('Ratings')\n",
        "plt.xticks(rotation=90)\n",
        "sns.barplot(x='Category',y='Rating',data=df1)\n",
        "plt.show()\n"
      ],
      "execution_count": null,
      "outputs": [
        {
          "output_type": "display_data",
          "data": {
            "image/png": "[encoded data removed]",
            "text/plain": [
              "<Figure size 1152x360 with 1 Axes>"
            ]
          },
          "metadata": {
            "tags": [],
            "needs_background": "light"
          }
        }
      ]
    },
    {
      "cell_type": "markdown",
      "metadata": {
        "id": "zFmcpwU7H6ly"
      },
      "source": [
        "From the above graph, we can see the ratings given to the Apps on the basis of their Category"
      ]
    },
    {
      "cell_type": "markdown",
      "metadata": {
        "id": "6t7WsypnetmI"
      },
      "source": [
        "* Q2. Top 10 installed Apps in Sports Category"
      ]
    },
    {
      "cell_type": "code",
      "metadata": {
        "id": "51K3y35Hsugb"
      },
      "source": [
        "top10 = df1[df1['Category'] == 'SPORTS']\n",
        "top = top10.sort_values(by='Installs',ascending=False).head(10)"
      ],
      "execution_count": null,
      "outputs": []
    },
    {
      "cell_type": "code",
      "metadata": {
        "colab": {
          "base_uri": "https://localhost:8080/"
        },
        "id": "KVNKeIROs2N2",
        "outputId": "371750b8-ef2f-437d-cf46-894109c063b4"
      },
      "source": [
        "top.value_counts()"
      ],
      "execution_count": null,
      "outputs": [
        {
          "output_type": "execute_result",
          "data": {
            "text/plain": [
              "App                                                 Category  Rating  Reviews   Size        Installs   Type  Price  Content Rating  Genres  Last Updated      Current Ver  Android Ver \n",
              "theScore: Live Sports Scores, News, Stats & Videos  SPORTS    4.4     133833    34000000.0  10000000   Free  0.0    Everyone 10+    Sports  July 25, 2018     6.17.2       4.4 and up      1\n",
              "Wrestling Revolution 3D                             SPORTS    4.3     989344    51000000.0  50000000   Free  0.0    Teen            Sports  July 23, 2018     1.640        4.0 and up      1\n",
              "PES 2018 PRO EVOLUTION SOCCER                       SPORTS    4.4     1721943   26000000.0  10000000   Free  0.0    Everyone        Sports  June 27, 2018     2.3.2        5.0 and up      1\n",
              "NBA LIVE Mobile Basketball                          SPORTS    4.4     1690802   58000000.0  50000000   Free  0.0    Everyone        Sports  May 21, 2018      2.3.1        4.0 and up      1\n",
              "FIFA Soccer                                         SPORTS    4.2     3909032   51000000.0  100000000  Free  0.0    Everyone        Sports  July 31, 2018     10.5.00      4.1 and up      1\n",
              "EA SPORTS UFC®                                      SPORTS    4.5     2371338   37000000.0  50000000   Free  0.0    Teen            Sports  July 24, 2017     1.9.3097721  2.3.3 and up    1\n",
              "Dream League Soccer 2018                            SPORTS    4.6     9873470   74000000.0  100000000  Free  0.0    Everyone        Sports  July 16, 2018     5.064        4.4 and up      1\n",
              "8 Ball Pool                                         SPORTS    4.5     14184910  52000000.0  100000000  Free  0.0    Everyone        Sports  July 31, 2018     4.0.0        4.0.3 and up    1\n",
              "3D Tennis                                           SPORTS    4.2     1008012   13000000.0  50000000   Free  0.0    Everyone        Sports  December 5, 2017  1.7.7        2.1 and up      1\n",
              "3D Bowling                                          SPORTS    4.1     1076243   13000000.0  100000000  Free  0.0    Everyone        Sports  January 18, 2018  3.1          2.0.1 and up    1\n",
              "dtype: int64"
            ]
          },
          "metadata": {
            "tags": []
          },
          "execution_count": 237
        }
      ]
    },
    {
      "cell_type": "code",
      "metadata": {
        "colab": {
          "base_uri": "https://localhost:8080/",
          "height": 912
        },
        "id": "DaNTZUNSQnNN",
        "outputId": "ac07403d-8e1b-4109-ed6e-613278960369"
      },
      "source": [
        "plt.figure(figsize=(15,12))\n",
        "plt.title('Top 10 Installed Apps in Sports',size=20)\n",
        "plt.xticks(rotation=45,horizontalalignment='right')\n",
        "sns.barplot(x=top.App,y=top.Installs)\n",
        "plt.xlabel('Sports Category')\n",
        "plt.show()"
      ],
      "execution_count": null,
      "outputs": [
        {
          "output_type": "display_data",
          "data": {
            "image/png": "[encoded data removed]",
            "text/plain": [
              "<Figure size 1080x864 with 1 Axes>"
            ]
          },
          "metadata": {
            "tags": [],
            "needs_background": "light"
          }
        }
      ]
    },
    {
      "cell_type": "markdown",
      "metadata": {
        "id": "wQ6YM4QsIHYD"
      },
      "source": [
        "From the above graph, we can see that in the Sports category Dream League Soccer2018, 3D Bowling, FIFA Soccer and 8 Ball Pool has the highest installs. "
      ]
    },
    {
      "cell_type": "markdown",
      "metadata": {
        "id": "tdivR5BPtMby"
      },
      "source": [
        "* Q3. Distribution of Ratings"
      ]
    },
    {
      "cell_type": "code",
      "metadata": {
        "colab": {
          "base_uri": "https://localhost:8080/"
        },
        "id": "ZTLxYZ_EHwoc",
        "outputId": "e518bdf1-4004-4c1f-9a32-142038254747"
      },
      "source": [
        "df1['Rating']"
      ],
      "execution_count": null,
      "outputs": [
        {
          "output_type": "execute_result",
          "data": {
            "text/plain": [
              "0        4.1\n",
              "1        3.9\n",
              "2        4.7\n",
              "3        4.5\n",
              "4        4.3\n",
              "        ... \n",
              "10833    4.8\n",
              "10834    4.0\n",
              "10836    4.5\n",
              "10837    5.0\n",
              "10840    4.5\n",
              "Name: Rating, Length: 7723, dtype: float64"
            ]
          },
          "metadata": {
            "tags": []
          },
          "execution_count": 227
        }
      ]
    },
    {
      "cell_type": "code",
      "metadata": {
        "colab": {
          "base_uri": "https://localhost:8080/"
        },
        "id": "2RHZbo_XHnpq",
        "outputId": "9be5b10c-d174-4864-a408-9a57fb52c2cb"
      },
      "source": [
        "df1['Rating'].unique()"
      ],
      "execution_count": null,
      "outputs": [
        {
          "output_type": "execute_result",
          "data": {
            "text/plain": [
              "array([4.1, 3.9, 4.7, 4.5, 4.3, 4.4, 3.8, 4.2, 4.6, 4. , 4.8, 4.9, 3.6,\n",
              "       3.7, 3.2, 3.3, 3.4, 3.5, 3.1, 5. , 2.6, 3. , 1.9, 2.5, 2.8, 2.7,\n",
              "       1. , 2.9, 2.3, 2.2, 1.7, 2. , 1.8, 2.4, 1.6, 2.1, 1.4, 1.5, 1.2])"
            ]
          },
          "metadata": {
            "tags": []
          },
          "execution_count": 228
        }
      ]
    },
    {
      "cell_type": "code",
      "metadata": {
        "colab": {
          "base_uri": "https://localhost:8080/",
          "height": 572
        },
        "id": "KnTwP0NOFCoz",
        "outputId": "2b51c325-af78-4740-912c-af58d52e7765"
      },
      "source": [
        "plt.figure(figsize=(15,9))\n",
        "plt.xlabel(\"Rating\")\n",
        "plt.ylabel(\"Frequency\")\n",
        "sns.kdeplot(df1.Rating, color=\"Blue\", shade = True)\n",
        "plt.title('Distribution of Rating',size = 20)\n",
        "plt.show()"
      ],
      "execution_count": null,
      "outputs": [
        {
          "output_type": "display_data",
          "data": {
            "image/png": "[encoded data removed]",
            "text/plain": [
              "<Figure size 1080x648 with 1 Axes>"
            ]
          },
          "metadata": {
            "tags": [],
            "needs_background": "light"
          }
        }
      ]
    },
    {
      "cell_type": "markdown",
      "metadata": {
        "id": "pRve-QsTI8Y5"
      },
      "source": [
        "From the above graph, we can come to the conclusion that most of the apps in the google play store are rated between 3.5 to 4.8."
      ]
    },
    {
      "cell_type": "markdown",
      "metadata": {
        "id": "MYVuWl6YJaMH"
      },
      "source": [
        "* Q4. Percent of Free vs Paid apps in Play Store"
      ]
    },
    {
      "cell_type": "code",
      "metadata": {
        "colab": {
          "base_uri": "https://localhost:8080/"
        },
        "id": "MOL9UYfVJ1q2",
        "outputId": "4b6ce386-fd05-4075-e2b2-515d22023db1"
      },
      "source": [
        "labels = df1['Type'].value_counts(sort = True).index\n",
        "labels"
      ],
      "execution_count": null,
      "outputs": [
        {
          "output_type": "execute_result",
          "data": {
            "text/plain": [
              "Index(['Free', 'Paid'], dtype='object')"
            ]
          },
          "metadata": {
            "tags": []
          },
          "execution_count": 230
        }
      ]
    },
    {
      "cell_type": "code",
      "metadata": {
        "colab": {
          "base_uri": "https://localhost:8080/"
        },
        "id": "0rOTmBvZKFtA",
        "outputId": "829845b9-6e1a-4006-a1f7-600406b0e0c4"
      },
      "source": [
        "sizes = df1['Type'].value_counts(sort = True)\n",
        "sizes"
      ],
      "execution_count": null,
      "outputs": [
        {
          "output_type": "execute_result",
          "data": {
            "text/plain": [
              "Free    7146\n",
              "Paid     577\n",
              "Name: Type, dtype: int64"
            ]
          },
          "metadata": {
            "tags": []
          },
          "execution_count": 231
        }
      ]
    },
    {
      "cell_type": "code",
      "metadata": {
        "colab": {
          "base_uri": "https://localhost:8080/",
          "height": 595
        },
        "id": "i_JxZwqIHjb9",
        "outputId": "59ed5983-b80b-4a67-b426-8192104a1a97"
      },
      "source": [
        "plt.figure(figsize=(10,10))\n",
        "colors = [\"blue\",\"lightgreen\"]\n",
        "explode = (0.2,0)\n",
        "plt.pie(sizes, explode=explode, labels=labels, colors=colors, autopct='%1.1f%%', shadow=True, startangle=0)\n",
        "plt.title('Percent of Free Vs Paid Apps in store',size = 20)\n",
        "plt.show()"
      ],
      "execution_count": null,
      "outputs": [
        {
          "output_type": "display_data",
          "data": {
            "image/png": "[encoded data removed]",
            "text/plain": [
              "<Figure size 720x720 with 1 Axes>"
            ]
          },
          "metadata": {
            "tags": []
          }
        }
      ]
    },
    {
      "cell_type": "markdown",
      "metadata": {
        "id": "SMl17rfwKgRU"
      },
      "source": [
        "From the above graph, we can see that 92%(Approx.) of apps in the google play store are free and 8%(Approx.) are paid."
      ]
    },
    {
      "cell_type": "markdown",
      "metadata": {
        "id": "7cPPdrmgLDT5"
      },
      "source": [
        "* Q5. Highest-Earning Apps"
      ]
    },
    {
      "cell_type": "code",
      "metadata": {
        "colab": {
          "base_uri": "https://localhost:8080/",
          "height": 814
        },
        "id": "uw74pXtnJrTX",
        "outputId": "9d313e27-82ba-4637-9540-990c401d8b1b"
      },
      "source": [
        "Paid_Apps = df1[df1['Type'] == 'Paid']\n",
        "Paid_Apps\n"
      ],
      "execution_count": null,
      "outputs": [
        {
          "output_type": "execute_result",
          "data": {
            "text/html": [
              "<div>\n",
              "<style scoped>\n",
              "    .dataframe tbody tr th:only-of-type {\n",
              "        vertical-align: middle;\n",
              "    }\n",
              "\n",
              "    .dataframe tbody tr th {\n",
              "        vertical-align: top;\n",
              "    }\n",
              "\n",
              "    .dataframe thead th {\n",
              "        text-align: right;\n",
              "    }\n",
              "</style>\n",
              "<table border=\"1\" class=\"dataframe\">\n",
              "  <thead>\n",
              "    <tr style=\"text-align: right;\">\n",
              "      <th></th>\n",
              "      <th>App</th>\n",
              "      <th>Category</th>\n",
              "      <th>Rating</th>\n",
              "      <th>Reviews</th>\n",
              "      <th>Size</th>\n",
              "      <th>Installs</th>\n",
              "      <th>Type</th>\n",
              "      <th>Price</th>\n",
              "      <th>Content Rating</th>\n",
              "      <th>Genres</th>\n",
              "      <th>Last Updated</th>\n",
              "      <th>Current Ver</th>\n",
              "      <th>Android Ver</th>\n",
              "    </tr>\n",
              "  </thead>\n",
              "  <tbody>\n",
              "    <tr>\n",
              "      <th>234</th>\n",
              "      <td>TurboScan: scan documents and receipts in PDF</td>\n",
              "      <td>BUSINESS</td>\n",
              "      <td>4.7</td>\n",
              "      <td>11442</td>\n",
              "      <td>6800000.0</td>\n",
              "      <td>100000</td>\n",
              "      <td>Paid</td>\n",
              "      <td>4.99</td>\n",
              "      <td>Everyone</td>\n",
              "      <td>Business</td>\n",
              "      <td>March 25, 2018</td>\n",
              "      <td>1.5.2</td>\n",
              "      <td>4.0 and up</td>\n",
              "    </tr>\n",
              "    <tr>\n",
              "      <th>235</th>\n",
              "      <td>Tiny Scanner Pro: PDF Doc Scan</td>\n",
              "      <td>BUSINESS</td>\n",
              "      <td>4.8</td>\n",
              "      <td>10295</td>\n",
              "      <td>39000000.0</td>\n",
              "      <td>100000</td>\n",
              "      <td>Paid</td>\n",
              "      <td>4.99</td>\n",
              "      <td>Everyone</td>\n",
              "      <td>Business</td>\n",
              "      <td>April 11, 2017</td>\n",
              "      <td>3.4.6</td>\n",
              "      <td>3.0 and up</td>\n",
              "    </tr>\n",
              "    <tr>\n",
              "      <th>290</th>\n",
              "      <td>TurboScan: scan documents and receipts in PDF</td>\n",
              "      <td>BUSINESS</td>\n",
              "      <td>4.7</td>\n",
              "      <td>11442</td>\n",
              "      <td>6800000.0</td>\n",
              "      <td>100000</td>\n",
              "      <td>Paid</td>\n",
              "      <td>4.99</td>\n",
              "      <td>Everyone</td>\n",
              "      <td>Business</td>\n",
              "      <td>March 25, 2018</td>\n",
              "      <td>1.5.2</td>\n",
              "      <td>4.0 and up</td>\n",
              "    </tr>\n",
              "    <tr>\n",
              "      <th>291</th>\n",
              "      <td>Tiny Scanner Pro: PDF Doc Scan</td>\n",
              "      <td>BUSINESS</td>\n",
              "      <td>4.8</td>\n",
              "      <td>10295</td>\n",
              "      <td>39000000.0</td>\n",
              "      <td>100000</td>\n",
              "      <td>Paid</td>\n",
              "      <td>4.99</td>\n",
              "      <td>Everyone</td>\n",
              "      <td>Business</td>\n",
              "      <td>April 11, 2017</td>\n",
              "      <td>3.4.6</td>\n",
              "      <td>3.0 and up</td>\n",
              "    </tr>\n",
              "    <tr>\n",
              "      <th>477</th>\n",
              "      <td>Calculator</td>\n",
              "      <td>DATING</td>\n",
              "      <td>2.6</td>\n",
              "      <td>57</td>\n",
              "      <td>6200000.0</td>\n",
              "      <td>1000</td>\n",
              "      <td>Paid</td>\n",
              "      <td>6.99</td>\n",
              "      <td>Everyone</td>\n",
              "      <td>Dating</td>\n",
              "      <td>October 25, 2017</td>\n",
              "      <td>1.1.6</td>\n",
              "      <td>4.0 and up</td>\n",
              "    </tr>\n",
              "    <tr>\n",
              "      <th>...</th>\n",
              "      <td>...</td>\n",
              "      <td>...</td>\n",
              "      <td>...</td>\n",
              "      <td>...</td>\n",
              "      <td>...</td>\n",
              "      <td>...</td>\n",
              "      <td>...</td>\n",
              "      <td>...</td>\n",
              "      <td>...</td>\n",
              "      <td>...</td>\n",
              "      <td>...</td>\n",
              "      <td>...</td>\n",
              "      <td>...</td>\n",
              "    </tr>\n",
              "    <tr>\n",
              "      <th>10690</th>\n",
              "      <td>FO Bixby</td>\n",
              "      <td>PERSONALIZATION</td>\n",
              "      <td>5.0</td>\n",
              "      <td>5</td>\n",
              "      <td>861000.0</td>\n",
              "      <td>100</td>\n",
              "      <td>Paid</td>\n",
              "      <td>0.99</td>\n",
              "      <td>Everyone</td>\n",
              "      <td>Personalization</td>\n",
              "      <td>April 25, 2018</td>\n",
              "      <td>0.2</td>\n",
              "      <td>7.0 and up</td>\n",
              "    </tr>\n",
              "    <tr>\n",
              "      <th>10697</th>\n",
              "      <td>Mu.F.O.</td>\n",
              "      <td>GAME</td>\n",
              "      <td>5.0</td>\n",
              "      <td>2</td>\n",
              "      <td>16000000.0</td>\n",
              "      <td>1</td>\n",
              "      <td>Paid</td>\n",
              "      <td>0.99</td>\n",
              "      <td>Everyone</td>\n",
              "      <td>Arcade</td>\n",
              "      <td>March 3, 2017</td>\n",
              "      <td>1.0</td>\n",
              "      <td>2.3 and up</td>\n",
              "    </tr>\n",
              "    <tr>\n",
              "      <th>10760</th>\n",
              "      <td>Fast Tract Diet</td>\n",
              "      <td>HEALTH_AND_FITNESS</td>\n",
              "      <td>4.4</td>\n",
              "      <td>35</td>\n",
              "      <td>2400000.0</td>\n",
              "      <td>1000</td>\n",
              "      <td>Paid</td>\n",
              "      <td>7.99</td>\n",
              "      <td>Everyone</td>\n",
              "      <td>Health &amp; Fitness</td>\n",
              "      <td>August 8, 2018</td>\n",
              "      <td>1.9.3</td>\n",
              "      <td>4.2 and up</td>\n",
              "    </tr>\n",
              "    <tr>\n",
              "      <th>10782</th>\n",
              "      <td>Trine 2: Complete Story</td>\n",
              "      <td>GAME</td>\n",
              "      <td>3.8</td>\n",
              "      <td>252</td>\n",
              "      <td>11000000.0</td>\n",
              "      <td>10000</td>\n",
              "      <td>Paid</td>\n",
              "      <td>16.99</td>\n",
              "      <td>Teen</td>\n",
              "      <td>Action</td>\n",
              "      <td>February 27, 2015</td>\n",
              "      <td>2.22</td>\n",
              "      <td>5.0 and up</td>\n",
              "    </tr>\n",
              "    <tr>\n",
              "      <th>10785</th>\n",
              "      <td>sugar, sugar</td>\n",
              "      <td>FAMILY</td>\n",
              "      <td>4.2</td>\n",
              "      <td>1405</td>\n",
              "      <td>9500000.0</td>\n",
              "      <td>10000</td>\n",
              "      <td>Paid</td>\n",
              "      <td>1.20</td>\n",
              "      <td>Everyone</td>\n",
              "      <td>Puzzle</td>\n",
              "      <td>June 5, 2018</td>\n",
              "      <td>2.7</td>\n",
              "      <td>2.3 and up</td>\n",
              "    </tr>\n",
              "  </tbody>\n",
              "</table>\n",
              "<p>577 rows × 13 columns</p>\n",
              "</div>"
            ],
            "text/plain": [
              "                                                 App  ... Android Ver\n",
              "234    TurboScan: scan documents and receipts in PDF  ...  4.0 and up\n",
              "235                   Tiny Scanner Pro: PDF Doc Scan  ...  3.0 and up\n",
              "290    TurboScan: scan documents and receipts in PDF  ...  4.0 and up\n",
              "291                   Tiny Scanner Pro: PDF Doc Scan  ...  3.0 and up\n",
              "477                                       Calculator  ...  4.0 and up\n",
              "...                                              ...  ...         ...\n",
              "10690                                       FO Bixby  ...  7.0 and up\n",
              "10697                                        Mu.F.O.  ...  2.3 and up\n",
              "10760                                Fast Tract Diet  ...  4.2 and up\n",
              "10782                        Trine 2: Complete Story  ...  5.0 and up\n",
              "10785                                   sugar, sugar  ...  2.3 and up\n",
              "\n",
              "[577 rows x 13 columns]"
            ]
          },
          "metadata": {
            "tags": []
          },
          "execution_count": 233
        }
      ]
    },
    {
      "cell_type": "code",
      "metadata": {
        "colab": {
          "base_uri": "https://localhost:8080/",
          "height": 1000
        },
        "id": "eh2EwXjPMJAP",
        "outputId": "a2d430de-ffef-41b0-c64e-839b4332d748"
      },
      "source": [
        "earning = Paid_Apps[['App', 'Installs', 'Price']]      #selecting columns required from dataframe\n",
        "earning['Earnings'] = earning['Installs'] * earning['Price']      #creating new column Earning by multiplying Installs and Price\n",
        "#Sort above data by Earning\n",
        "earning_sorted_by_Earnings = earning.sort_values(by='Earnings', ascending=False).head(50)\n",
        "earning_sorted_by_Earnings\n"
      ],
      "execution_count": null,
      "outputs": [
        {
          "output_type": "execute_result",
          "data": {
            "text/html": [
              "<div>\n",
              "<style scoped>\n",
              "    .dataframe tbody tr th:only-of-type {\n",
              "        vertical-align: middle;\n",
              "    }\n",
              "\n",
              "    .dataframe tbody tr th {\n",
              "        vertical-align: top;\n",
              "    }\n",
              "\n",
              "    .dataframe thead th {\n",
              "        text-align: right;\n",
              "    }\n",
              "</style>\n",
              "<table border=\"1\" class=\"dataframe\">\n",
              "  <thead>\n",
              "    <tr style=\"text-align: right;\">\n",
              "      <th></th>\n",
              "      <th>App</th>\n",
              "      <th>Installs</th>\n",
              "      <th>Price</th>\n",
              "      <th>Earnings</th>\n",
              "    </tr>\n",
              "  </thead>\n",
              "  <tbody>\n",
              "    <tr>\n",
              "      <th>5351</th>\n",
              "      <td>I am rich</td>\n",
              "      <td>100000</td>\n",
              "      <td>399.99</td>\n",
              "      <td>39999000.0</td>\n",
              "    </tr>\n",
              "    <tr>\n",
              "      <th>5356</th>\n",
              "      <td>I Am Rich Premium</td>\n",
              "      <td>50000</td>\n",
              "      <td>399.99</td>\n",
              "      <td>19999500.0</td>\n",
              "    </tr>\n",
              "    <tr>\n",
              "      <th>4034</th>\n",
              "      <td>Hitman Sniper</td>\n",
              "      <td>10000000</td>\n",
              "      <td>0.99</td>\n",
              "      <td>9900000.0</td>\n",
              "    </tr>\n",
              "    <tr>\n",
              "      <th>7417</th>\n",
              "      <td>Grand Theft Auto: San Andreas</td>\n",
              "      <td>1000000</td>\n",
              "      <td>6.99</td>\n",
              "      <td>6990000.0</td>\n",
              "    </tr>\n",
              "    <tr>\n",
              "      <th>5578</th>\n",
              "      <td>Sleep as Android Unlock</td>\n",
              "      <td>1000000</td>\n",
              "      <td>5.99</td>\n",
              "      <td>5990000.0</td>\n",
              "    </tr>\n",
              "    <tr>\n",
              "      <th>2950</th>\n",
              "      <td>Facetune - For Free</td>\n",
              "      <td>1000000</td>\n",
              "      <td>5.99</td>\n",
              "      <td>5990000.0</td>\n",
              "    </tr>\n",
              "    <tr>\n",
              "      <th>2883</th>\n",
              "      <td>Facetune - For Free</td>\n",
              "      <td>1000000</td>\n",
              "      <td>5.99</td>\n",
              "      <td>5990000.0</td>\n",
              "    </tr>\n",
              "    <tr>\n",
              "      <th>2912</th>\n",
              "      <td>Facetune - For Free</td>\n",
              "      <td>1000000</td>\n",
              "      <td>5.99</td>\n",
              "      <td>5990000.0</td>\n",
              "    </tr>\n",
              "    <tr>\n",
              "      <th>8804</th>\n",
              "      <td>DraStic DS Emulator</td>\n",
              "      <td>1000000</td>\n",
              "      <td>4.99</td>\n",
              "      <td>4990000.0</td>\n",
              "    </tr>\n",
              "    <tr>\n",
              "      <th>4367</th>\n",
              "      <td>I'm Rich - Trump Edition</td>\n",
              "      <td>10000</td>\n",
              "      <td>400.00</td>\n",
              "      <td>4000000.0</td>\n",
              "    </tr>\n",
              "    <tr>\n",
              "      <th>4362</th>\n",
              "      <td>💎 I'm rich</td>\n",
              "      <td>10000</td>\n",
              "      <td>399.99</td>\n",
              "      <td>3999900.0</td>\n",
              "    </tr>\n",
              "    <tr>\n",
              "      <th>5354</th>\n",
              "      <td>I am Rich Plus</td>\n",
              "      <td>10000</td>\n",
              "      <td>399.99</td>\n",
              "      <td>3999900.0</td>\n",
              "    </tr>\n",
              "    <tr>\n",
              "      <th>5366</th>\n",
              "      <td>I Am Rich</td>\n",
              "      <td>10000</td>\n",
              "      <td>389.99</td>\n",
              "      <td>3899900.0</td>\n",
              "    </tr>\n",
              "    <tr>\n",
              "      <th>5355</th>\n",
              "      <td>I am rich VIP</td>\n",
              "      <td>10000</td>\n",
              "      <td>299.99</td>\n",
              "      <td>2999900.0</td>\n",
              "    </tr>\n",
              "    <tr>\n",
              "      <th>2242</th>\n",
              "      <td>Card Wars - Adventure Time</td>\n",
              "      <td>1000000</td>\n",
              "      <td>2.99</td>\n",
              "      <td>2990000.0</td>\n",
              "    </tr>\n",
              "    <tr>\n",
              "      <th>8860</th>\n",
              "      <td>Bloons TD 5</td>\n",
              "      <td>1000000</td>\n",
              "      <td>2.99</td>\n",
              "      <td>2990000.0</td>\n",
              "    </tr>\n",
              "    <tr>\n",
              "      <th>5631</th>\n",
              "      <td>Five Nights at Freddy's</td>\n",
              "      <td>1000000</td>\n",
              "      <td>2.99</td>\n",
              "      <td>2990000.0</td>\n",
              "    </tr>\n",
              "    <tr>\n",
              "      <th>2372</th>\n",
              "      <td>Human Anatomy Atlas 2018: Complete 3D Human Body</td>\n",
              "      <td>100000</td>\n",
              "      <td>24.99</td>\n",
              "      <td>2499000.0</td>\n",
              "    </tr>\n",
              "    <tr>\n",
              "      <th>2251</th>\n",
              "      <td>Human Anatomy Atlas 2018: Complete 3D Human Body</td>\n",
              "      <td>100000</td>\n",
              "      <td>24.99</td>\n",
              "      <td>2499000.0</td>\n",
              "    </tr>\n",
              "    <tr>\n",
              "      <th>9574</th>\n",
              "      <td>Human Anatomy Atlas 2018: Complete 3D Human Body</td>\n",
              "      <td>100000</td>\n",
              "      <td>24.99</td>\n",
              "      <td>2499000.0</td>\n",
              "    </tr>\n",
              "    <tr>\n",
              "      <th>9154</th>\n",
              "      <td>NBA JAM by EA SPORTS™</td>\n",
              "      <td>500000</td>\n",
              "      <td>4.99</td>\n",
              "      <td>2495000.0</td>\n",
              "    </tr>\n",
              "    <tr>\n",
              "      <th>3403</th>\n",
              "      <td>Beautiful Widgets Pro</td>\n",
              "      <td>1000000</td>\n",
              "      <td>2.49</td>\n",
              "      <td>2490000.0</td>\n",
              "    </tr>\n",
              "    <tr>\n",
              "      <th>6911</th>\n",
              "      <td>Beautiful Widgets Pro</td>\n",
              "      <td>1000000</td>\n",
              "      <td>2.49</td>\n",
              "      <td>2490000.0</td>\n",
              "    </tr>\n",
              "    <tr>\n",
              "      <th>5359</th>\n",
              "      <td>I am rich(premium)</td>\n",
              "      <td>5000</td>\n",
              "      <td>399.99</td>\n",
              "      <td>1999950.0</td>\n",
              "    </tr>\n",
              "    <tr>\n",
              "      <th>5362</th>\n",
              "      <td>I Am Rich Pro</td>\n",
              "      <td>5000</td>\n",
              "      <td>399.99</td>\n",
              "      <td>1999950.0</td>\n",
              "    </tr>\n",
              "    <tr>\n",
              "      <th>5369</th>\n",
              "      <td>I am Rich</td>\n",
              "      <td>5000</td>\n",
              "      <td>399.99</td>\n",
              "      <td>1999950.0</td>\n",
              "    </tr>\n",
              "    <tr>\n",
              "      <th>853</th>\n",
              "      <td>Toca Life: City</td>\n",
              "      <td>500000</td>\n",
              "      <td>3.99</td>\n",
              "      <td>1995000.0</td>\n",
              "    </tr>\n",
              "    <tr>\n",
              "      <th>2151</th>\n",
              "      <td>Toca Life: City</td>\n",
              "      <td>500000</td>\n",
              "      <td>3.99</td>\n",
              "      <td>1995000.0</td>\n",
              "    </tr>\n",
              "    <tr>\n",
              "      <th>9678</th>\n",
              "      <td>Where's My Water?</td>\n",
              "      <td>1000000</td>\n",
              "      <td>1.99</td>\n",
              "      <td>1990000.0</td>\n",
              "    </tr>\n",
              "    <tr>\n",
              "      <th>5490</th>\n",
              "      <td>True Skate</td>\n",
              "      <td>1000000</td>\n",
              "      <td>1.99</td>\n",
              "      <td>1990000.0</td>\n",
              "    </tr>\n",
              "    <tr>\n",
              "      <th>3039</th>\n",
              "      <td>Golfshot Plus: Golf GPS</td>\n",
              "      <td>50000</td>\n",
              "      <td>29.99</td>\n",
              "      <td>1499500.0</td>\n",
              "    </tr>\n",
              "    <tr>\n",
              "      <th>8726</th>\n",
              "      <td>DRAGON QUEST VI</td>\n",
              "      <td>100000</td>\n",
              "      <td>14.99</td>\n",
              "      <td>1499000.0</td>\n",
              "    </tr>\n",
              "    <tr>\n",
              "      <th>8449</th>\n",
              "      <td>Cameringo+ Filters Camera</td>\n",
              "      <td>500000</td>\n",
              "      <td>2.99</td>\n",
              "      <td>1495000.0</td>\n",
              "    </tr>\n",
              "    <tr>\n",
              "      <th>9478</th>\n",
              "      <td>Farming Simulator 16</td>\n",
              "      <td>500000</td>\n",
              "      <td>2.99</td>\n",
              "      <td>1495000.0</td>\n",
              "    </tr>\n",
              "    <tr>\n",
              "      <th>5627</th>\n",
              "      <td>Five Nights at Freddy's 2</td>\n",
              "      <td>500000</td>\n",
              "      <td>2.99</td>\n",
              "      <td>1495000.0</td>\n",
              "    </tr>\n",
              "    <tr>\n",
              "      <th>9785</th>\n",
              "      <td>ES File Explorer/Manager PRO</td>\n",
              "      <td>500000</td>\n",
              "      <td>2.99</td>\n",
              "      <td>1495000.0</td>\n",
              "    </tr>\n",
              "    <tr>\n",
              "      <th>8736</th>\n",
              "      <td>FINAL FANTASY DIMENSIONS</td>\n",
              "      <td>100000</td>\n",
              "      <td>13.99</td>\n",
              "      <td>1399000.0</td>\n",
              "    </tr>\n",
              "    <tr>\n",
              "      <th>10036</th>\n",
              "      <td>ADWLauncher 1 EX</td>\n",
              "      <td>500000</td>\n",
              "      <td>2.49</td>\n",
              "      <td>1245000.0</td>\n",
              "    </tr>\n",
              "    <tr>\n",
              "      <th>8719</th>\n",
              "      <td>DRAGON QUEST VIII</td>\n",
              "      <td>50000</td>\n",
              "      <td>19.99</td>\n",
              "      <td>999500.0</td>\n",
              "    </tr>\n",
              "    <tr>\n",
              "      <th>10006</th>\n",
              "      <td>XCOM®: Enemy Within</td>\n",
              "      <td>100000</td>\n",
              "      <td>9.99</td>\n",
              "      <td>999000.0</td>\n",
              "    </tr>\n",
              "    <tr>\n",
              "      <th>8733</th>\n",
              "      <td>CHRONO TRIGGER (Upgrade Ver.)</td>\n",
              "      <td>100000</td>\n",
              "      <td>9.99</td>\n",
              "      <td>999000.0</td>\n",
              "    </tr>\n",
              "    <tr>\n",
              "      <th>6180</th>\n",
              "      <td>Baldur's Gate: Enhanced Edition</td>\n",
              "      <td>100000</td>\n",
              "      <td>9.99</td>\n",
              "      <td>999000.0</td>\n",
              "    </tr>\n",
              "    <tr>\n",
              "      <th>1838</th>\n",
              "      <td>Star Wars ™: DIRTY</td>\n",
              "      <td>100000</td>\n",
              "      <td>9.99</td>\n",
              "      <td>999000.0</td>\n",
              "    </tr>\n",
              "    <tr>\n",
              "      <th>4901</th>\n",
              "      <td>Assassin's Creed Identity</td>\n",
              "      <td>500000</td>\n",
              "      <td>1.99</td>\n",
              "      <td>995000.0</td>\n",
              "    </tr>\n",
              "    <tr>\n",
              "      <th>7810</th>\n",
              "      <td>CamScanner (License)</td>\n",
              "      <td>500000</td>\n",
              "      <td>1.99</td>\n",
              "      <td>995000.0</td>\n",
              "    </tr>\n",
              "    <tr>\n",
              "      <th>9151</th>\n",
              "      <td>Lost Journey (Dreamsky)</td>\n",
              "      <td>1000000</td>\n",
              "      <td>0.99</td>\n",
              "      <td>990000.0</td>\n",
              "    </tr>\n",
              "    <tr>\n",
              "      <th>9165</th>\n",
              "      <td>League of Stickman 2018- Ninja Arena PVP(Dream...</td>\n",
              "      <td>1000000</td>\n",
              "      <td>0.99</td>\n",
              "      <td>990000.0</td>\n",
              "    </tr>\n",
              "    <tr>\n",
              "      <th>9170</th>\n",
              "      <td>Stickman Legends: Shadow Wars</td>\n",
              "      <td>1000000</td>\n",
              "      <td>0.99</td>\n",
              "      <td>990000.0</td>\n",
              "    </tr>\n",
              "    <tr>\n",
              "      <th>6675</th>\n",
              "      <td>Infinity Dungeon VIP</td>\n",
              "      <td>1000000</td>\n",
              "      <td>0.99</td>\n",
              "      <td>990000.0</td>\n",
              "    </tr>\n",
              "    <tr>\n",
              "      <th>3405</th>\n",
              "      <td>HD Widgets</td>\n",
              "      <td>1000000</td>\n",
              "      <td>0.99</td>\n",
              "      <td>990000.0</td>\n",
              "    </tr>\n",
              "  </tbody>\n",
              "</table>\n",
              "</div>"
            ],
            "text/plain": [
              "                                                     App  ...    Earnings\n",
              "5351                                           I am rich  ...  39999000.0\n",
              "5356                                   I Am Rich Premium  ...  19999500.0\n",
              "4034                                       Hitman Sniper  ...   9900000.0\n",
              "7417                       Grand Theft Auto: San Andreas  ...   6990000.0\n",
              "5578                             Sleep as Android Unlock  ...   5990000.0\n",
              "2950                                 Facetune - For Free  ...   5990000.0\n",
              "2883                                 Facetune - For Free  ...   5990000.0\n",
              "2912                                 Facetune - For Free  ...   5990000.0\n",
              "8804                                 DraStic DS Emulator  ...   4990000.0\n",
              "4367                            I'm Rich - Trump Edition  ...   4000000.0\n",
              "4362                                          💎 I'm rich  ...   3999900.0\n",
              "5354                                      I am Rich Plus  ...   3999900.0\n",
              "5366                                           I Am Rich  ...   3899900.0\n",
              "5355                                       I am rich VIP  ...   2999900.0\n",
              "2242                          Card Wars - Adventure Time  ...   2990000.0\n",
              "8860                                         Bloons TD 5  ...   2990000.0\n",
              "5631                             Five Nights at Freddy's  ...   2990000.0\n",
              "2372    Human Anatomy Atlas 2018: Complete 3D Human Body  ...   2499000.0\n",
              "2251    Human Anatomy Atlas 2018: Complete 3D Human Body  ...   2499000.0\n",
              "9574    Human Anatomy Atlas 2018: Complete 3D Human Body  ...   2499000.0\n",
              "9154                               NBA JAM by EA SPORTS™  ...   2495000.0\n",
              "3403                               Beautiful Widgets Pro  ...   2490000.0\n",
              "6911                               Beautiful Widgets Pro  ...   2490000.0\n",
              "5359                                  I am rich(premium)  ...   1999950.0\n",
              "5362                                       I Am Rich Pro  ...   1999950.0\n",
              "5369                                           I am Rich  ...   1999950.0\n",
              "853                                      Toca Life: City  ...   1995000.0\n",
              "2151                                     Toca Life: City  ...   1995000.0\n",
              "9678                                   Where's My Water?  ...   1990000.0\n",
              "5490                                          True Skate  ...   1990000.0\n",
              "3039                             Golfshot Plus: Golf GPS  ...   1499500.0\n",
              "8726                                     DRAGON QUEST VI  ...   1499000.0\n",
              "8449                           Cameringo+ Filters Camera  ...   1495000.0\n",
              "9478                                Farming Simulator 16  ...   1495000.0\n",
              "5627                           Five Nights at Freddy's 2  ...   1495000.0\n",
              "9785                        ES File Explorer/Manager PRO  ...   1495000.0\n",
              "8736                            FINAL FANTASY DIMENSIONS  ...   1399000.0\n",
              "10036                                   ADWLauncher 1 EX  ...   1245000.0\n",
              "8719                                   DRAGON QUEST VIII  ...    999500.0\n",
              "10006                                XCOM®: Enemy Within  ...    999000.0\n",
              "8733                       CHRONO TRIGGER (Upgrade Ver.)  ...    999000.0\n",
              "6180                     Baldur's Gate: Enhanced Edition  ...    999000.0\n",
              "1838                                  Star Wars ™: DIRTY  ...    999000.0\n",
              "4901                           Assassin's Creed Identity  ...    995000.0\n",
              "7810                                CamScanner (License)  ...    995000.0\n",
              "9151                             Lost Journey (Dreamsky)  ...    990000.0\n",
              "9165   League of Stickman 2018- Ninja Arena PVP(Dream...  ...    990000.0\n",
              "9170                       Stickman Legends: Shadow Wars  ...    990000.0\n",
              "6675                                Infinity Dungeon VIP  ...    990000.0\n",
              "3405                                          HD Widgets  ...    990000.0\n",
              "\n",
              "[50 rows x 4 columns]"
            ]
          },
          "metadata": {
            "tags": []
          },
          "execution_count": 234
        }
      ]
    },
    {
      "cell_type": "code",
      "metadata": {
        "colab": {
          "base_uri": "https://localhost:8080/",
          "height": 1000
        },
        "id": "CI6_9jPMONsq",
        "outputId": "d85828e7-b533-4a11-ef31-31484062a6c0"
      },
      "source": [
        "#Sort data by Price\n",
        "earning_sorted_by_Price = earning_sorted_by_Earnings.sort_values(by='Price', ascending=False)\n",
        "earning_sorted_by_Price"
      ],
      "execution_count": null,
      "outputs": [
        {
          "output_type": "execute_result",
          "data": {
            "text/html": [
              "<div>\n",
              "<style scoped>\n",
              "    .dataframe tbody tr th:only-of-type {\n",
              "        vertical-align: middle;\n",
              "    }\n",
              "\n",
              "    .dataframe tbody tr th {\n",
              "        vertical-align: top;\n",
              "    }\n",
              "\n",
              "    .dataframe thead th {\n",
              "        text-align: right;\n",
              "    }\n",
              "</style>\n",
              "<table border=\"1\" class=\"dataframe\">\n",
              "  <thead>\n",
              "    <tr style=\"text-align: right;\">\n",
              "      <th></th>\n",
              "      <th>App</th>\n",
              "      <th>Installs</th>\n",
              "      <th>Price</th>\n",
              "      <th>Earnings</th>\n",
              "    </tr>\n",
              "  </thead>\n",
              "  <tbody>\n",
              "    <tr>\n",
              "      <th>4367</th>\n",
              "      <td>I'm Rich - Trump Edition</td>\n",
              "      <td>10000</td>\n",
              "      <td>400.00</td>\n",
              "      <td>4000000.0</td>\n",
              "    </tr>\n",
              "    <tr>\n",
              "      <th>5351</th>\n",
              "      <td>I am rich</td>\n",
              "      <td>100000</td>\n",
              "      <td>399.99</td>\n",
              "      <td>39999000.0</td>\n",
              "    </tr>\n",
              "    <tr>\n",
              "      <th>5356</th>\n",
              "      <td>I Am Rich Premium</td>\n",
              "      <td>50000</td>\n",
              "      <td>399.99</td>\n",
              "      <td>19999500.0</td>\n",
              "    </tr>\n",
              "    <tr>\n",
              "      <th>5362</th>\n",
              "      <td>I Am Rich Pro</td>\n",
              "      <td>5000</td>\n",
              "      <td>399.99</td>\n",
              "      <td>1999950.0</td>\n",
              "    </tr>\n",
              "    <tr>\n",
              "      <th>5359</th>\n",
              "      <td>I am rich(premium)</td>\n",
              "      <td>5000</td>\n",
              "      <td>399.99</td>\n",
              "      <td>1999950.0</td>\n",
              "    </tr>\n",
              "    <tr>\n",
              "      <th>5354</th>\n",
              "      <td>I am Rich Plus</td>\n",
              "      <td>10000</td>\n",
              "      <td>399.99</td>\n",
              "      <td>3999900.0</td>\n",
              "    </tr>\n",
              "    <tr>\n",
              "      <th>4362</th>\n",
              "      <td>💎 I'm rich</td>\n",
              "      <td>10000</td>\n",
              "      <td>399.99</td>\n",
              "      <td>3999900.0</td>\n",
              "    </tr>\n",
              "    <tr>\n",
              "      <th>5369</th>\n",
              "      <td>I am Rich</td>\n",
              "      <td>5000</td>\n",
              "      <td>399.99</td>\n",
              "      <td>1999950.0</td>\n",
              "    </tr>\n",
              "    <tr>\n",
              "      <th>5366</th>\n",
              "      <td>I Am Rich</td>\n",
              "      <td>10000</td>\n",
              "      <td>389.99</td>\n",
              "      <td>3899900.0</td>\n",
              "    </tr>\n",
              "    <tr>\n",
              "      <th>5355</th>\n",
              "      <td>I am rich VIP</td>\n",
              "      <td>10000</td>\n",
              "      <td>299.99</td>\n",
              "      <td>2999900.0</td>\n",
              "    </tr>\n",
              "    <tr>\n",
              "      <th>3039</th>\n",
              "      <td>Golfshot Plus: Golf GPS</td>\n",
              "      <td>50000</td>\n",
              "      <td>29.99</td>\n",
              "      <td>1499500.0</td>\n",
              "    </tr>\n",
              "    <tr>\n",
              "      <th>2372</th>\n",
              "      <td>Human Anatomy Atlas 2018: Complete 3D Human Body</td>\n",
              "      <td>100000</td>\n",
              "      <td>24.99</td>\n",
              "      <td>2499000.0</td>\n",
              "    </tr>\n",
              "    <tr>\n",
              "      <th>2251</th>\n",
              "      <td>Human Anatomy Atlas 2018: Complete 3D Human Body</td>\n",
              "      <td>100000</td>\n",
              "      <td>24.99</td>\n",
              "      <td>2499000.0</td>\n",
              "    </tr>\n",
              "    <tr>\n",
              "      <th>9574</th>\n",
              "      <td>Human Anatomy Atlas 2018: Complete 3D Human Body</td>\n",
              "      <td>100000</td>\n",
              "      <td>24.99</td>\n",
              "      <td>2499000.0</td>\n",
              "    </tr>\n",
              "    <tr>\n",
              "      <th>8719</th>\n",
              "      <td>DRAGON QUEST VIII</td>\n",
              "      <td>50000</td>\n",
              "      <td>19.99</td>\n",
              "      <td>999500.0</td>\n",
              "    </tr>\n",
              "    <tr>\n",
              "      <th>8726</th>\n",
              "      <td>DRAGON QUEST VI</td>\n",
              "      <td>100000</td>\n",
              "      <td>14.99</td>\n",
              "      <td>1499000.0</td>\n",
              "    </tr>\n",
              "    <tr>\n",
              "      <th>8736</th>\n",
              "      <td>FINAL FANTASY DIMENSIONS</td>\n",
              "      <td>100000</td>\n",
              "      <td>13.99</td>\n",
              "      <td>1399000.0</td>\n",
              "    </tr>\n",
              "    <tr>\n",
              "      <th>6180</th>\n",
              "      <td>Baldur's Gate: Enhanced Edition</td>\n",
              "      <td>100000</td>\n",
              "      <td>9.99</td>\n",
              "      <td>999000.0</td>\n",
              "    </tr>\n",
              "    <tr>\n",
              "      <th>10006</th>\n",
              "      <td>XCOM®: Enemy Within</td>\n",
              "      <td>100000</td>\n",
              "      <td>9.99</td>\n",
              "      <td>999000.0</td>\n",
              "    </tr>\n",
              "    <tr>\n",
              "      <th>8733</th>\n",
              "      <td>CHRONO TRIGGER (Upgrade Ver.)</td>\n",
              "      <td>100000</td>\n",
              "      <td>9.99</td>\n",
              "      <td>999000.0</td>\n",
              "    </tr>\n",
              "    <tr>\n",
              "      <th>1838</th>\n",
              "      <td>Star Wars ™: DIRTY</td>\n",
              "      <td>100000</td>\n",
              "      <td>9.99</td>\n",
              "      <td>999000.0</td>\n",
              "    </tr>\n",
              "    <tr>\n",
              "      <th>7417</th>\n",
              "      <td>Grand Theft Auto: San Andreas</td>\n",
              "      <td>1000000</td>\n",
              "      <td>6.99</td>\n",
              "      <td>6990000.0</td>\n",
              "    </tr>\n",
              "    <tr>\n",
              "      <th>2912</th>\n",
              "      <td>Facetune - For Free</td>\n",
              "      <td>1000000</td>\n",
              "      <td>5.99</td>\n",
              "      <td>5990000.0</td>\n",
              "    </tr>\n",
              "    <tr>\n",
              "      <th>2950</th>\n",
              "      <td>Facetune - For Free</td>\n",
              "      <td>1000000</td>\n",
              "      <td>5.99</td>\n",
              "      <td>5990000.0</td>\n",
              "    </tr>\n",
              "    <tr>\n",
              "      <th>2883</th>\n",
              "      <td>Facetune - For Free</td>\n",
              "      <td>1000000</td>\n",
              "      <td>5.99</td>\n",
              "      <td>5990000.0</td>\n",
              "    </tr>\n",
              "    <tr>\n",
              "      <th>5578</th>\n",
              "      <td>Sleep as Android Unlock</td>\n",
              "      <td>1000000</td>\n",
              "      <td>5.99</td>\n",
              "      <td>5990000.0</td>\n",
              "    </tr>\n",
              "    <tr>\n",
              "      <th>8804</th>\n",
              "      <td>DraStic DS Emulator</td>\n",
              "      <td>1000000</td>\n",
              "      <td>4.99</td>\n",
              "      <td>4990000.0</td>\n",
              "    </tr>\n",
              "    <tr>\n",
              "      <th>9154</th>\n",
              "      <td>NBA JAM by EA SPORTS™</td>\n",
              "      <td>500000</td>\n",
              "      <td>4.99</td>\n",
              "      <td>2495000.0</td>\n",
              "    </tr>\n",
              "    <tr>\n",
              "      <th>2151</th>\n",
              "      <td>Toca Life: City</td>\n",
              "      <td>500000</td>\n",
              "      <td>3.99</td>\n",
              "      <td>1995000.0</td>\n",
              "    </tr>\n",
              "    <tr>\n",
              "      <th>853</th>\n",
              "      <td>Toca Life: City</td>\n",
              "      <td>500000</td>\n",
              "      <td>3.99</td>\n",
              "      <td>1995000.0</td>\n",
              "    </tr>\n",
              "    <tr>\n",
              "      <th>8449</th>\n",
              "      <td>Cameringo+ Filters Camera</td>\n",
              "      <td>500000</td>\n",
              "      <td>2.99</td>\n",
              "      <td>1495000.0</td>\n",
              "    </tr>\n",
              "    <tr>\n",
              "      <th>9478</th>\n",
              "      <td>Farming Simulator 16</td>\n",
              "      <td>500000</td>\n",
              "      <td>2.99</td>\n",
              "      <td>1495000.0</td>\n",
              "    </tr>\n",
              "    <tr>\n",
              "      <th>5627</th>\n",
              "      <td>Five Nights at Freddy's 2</td>\n",
              "      <td>500000</td>\n",
              "      <td>2.99</td>\n",
              "      <td>1495000.0</td>\n",
              "    </tr>\n",
              "    <tr>\n",
              "      <th>9785</th>\n",
              "      <td>ES File Explorer/Manager PRO</td>\n",
              "      <td>500000</td>\n",
              "      <td>2.99</td>\n",
              "      <td>1495000.0</td>\n",
              "    </tr>\n",
              "    <tr>\n",
              "      <th>5631</th>\n",
              "      <td>Five Nights at Freddy's</td>\n",
              "      <td>1000000</td>\n",
              "      <td>2.99</td>\n",
              "      <td>2990000.0</td>\n",
              "    </tr>\n",
              "    <tr>\n",
              "      <th>8860</th>\n",
              "      <td>Bloons TD 5</td>\n",
              "      <td>1000000</td>\n",
              "      <td>2.99</td>\n",
              "      <td>2990000.0</td>\n",
              "    </tr>\n",
              "    <tr>\n",
              "      <th>2242</th>\n",
              "      <td>Card Wars - Adventure Time</td>\n",
              "      <td>1000000</td>\n",
              "      <td>2.99</td>\n",
              "      <td>2990000.0</td>\n",
              "    </tr>\n",
              "    <tr>\n",
              "      <th>6911</th>\n",
              "      <td>Beautiful Widgets Pro</td>\n",
              "      <td>1000000</td>\n",
              "      <td>2.49</td>\n",
              "      <td>2490000.0</td>\n",
              "    </tr>\n",
              "    <tr>\n",
              "      <th>3403</th>\n",
              "      <td>Beautiful Widgets Pro</td>\n",
              "      <td>1000000</td>\n",
              "      <td>2.49</td>\n",
              "      <td>2490000.0</td>\n",
              "    </tr>\n",
              "    <tr>\n",
              "      <th>10036</th>\n",
              "      <td>ADWLauncher 1 EX</td>\n",
              "      <td>500000</td>\n",
              "      <td>2.49</td>\n",
              "      <td>1245000.0</td>\n",
              "    </tr>\n",
              "    <tr>\n",
              "      <th>4901</th>\n",
              "      <td>Assassin's Creed Identity</td>\n",
              "      <td>500000</td>\n",
              "      <td>1.99</td>\n",
              "      <td>995000.0</td>\n",
              "    </tr>\n",
              "    <tr>\n",
              "      <th>7810</th>\n",
              "      <td>CamScanner (License)</td>\n",
              "      <td>500000</td>\n",
              "      <td>1.99</td>\n",
              "      <td>995000.0</td>\n",
              "    </tr>\n",
              "    <tr>\n",
              "      <th>5490</th>\n",
              "      <td>True Skate</td>\n",
              "      <td>1000000</td>\n",
              "      <td>1.99</td>\n",
              "      <td>1990000.0</td>\n",
              "    </tr>\n",
              "    <tr>\n",
              "      <th>9678</th>\n",
              "      <td>Where's My Water?</td>\n",
              "      <td>1000000</td>\n",
              "      <td>1.99</td>\n",
              "      <td>1990000.0</td>\n",
              "    </tr>\n",
              "    <tr>\n",
              "      <th>4034</th>\n",
              "      <td>Hitman Sniper</td>\n",
              "      <td>10000000</td>\n",
              "      <td>0.99</td>\n",
              "      <td>9900000.0</td>\n",
              "    </tr>\n",
              "    <tr>\n",
              "      <th>9151</th>\n",
              "      <td>Lost Journey (Dreamsky)</td>\n",
              "      <td>1000000</td>\n",
              "      <td>0.99</td>\n",
              "      <td>990000.0</td>\n",
              "    </tr>\n",
              "    <tr>\n",
              "      <th>9165</th>\n",
              "      <td>League of Stickman 2018- Ninja Arena PVP(Dream...</td>\n",
              "      <td>1000000</td>\n",
              "      <td>0.99</td>\n",
              "      <td>990000.0</td>\n",
              "    </tr>\n",
              "    <tr>\n",
              "      <th>9170</th>\n",
              "      <td>Stickman Legends: Shadow Wars</td>\n",
              "      <td>1000000</td>\n",
              "      <td>0.99</td>\n",
              "      <td>990000.0</td>\n",
              "    </tr>\n",
              "    <tr>\n",
              "      <th>6675</th>\n",
              "      <td>Infinity Dungeon VIP</td>\n",
              "      <td>1000000</td>\n",
              "      <td>0.99</td>\n",
              "      <td>990000.0</td>\n",
              "    </tr>\n",
              "    <tr>\n",
              "      <th>3405</th>\n",
              "      <td>HD Widgets</td>\n",
              "      <td>1000000</td>\n",
              "      <td>0.99</td>\n",
              "      <td>990000.0</td>\n",
              "    </tr>\n",
              "  </tbody>\n",
              "</table>\n",
              "</div>"
            ],
            "text/plain": [
              "                                                     App  ...    Earnings\n",
              "4367                            I'm Rich - Trump Edition  ...   4000000.0\n",
              "5351                                           I am rich  ...  39999000.0\n",
              "5356                                   I Am Rich Premium  ...  19999500.0\n",
              "5362                                       I Am Rich Pro  ...   1999950.0\n",
              "5359                                  I am rich(premium)  ...   1999950.0\n",
              "5354                                      I am Rich Plus  ...   3999900.0\n",
              "4362                                          💎 I'm rich  ...   3999900.0\n",
              "5369                                           I am Rich  ...   1999950.0\n",
              "5366                                           I Am Rich  ...   3899900.0\n",
              "5355                                       I am rich VIP  ...   2999900.0\n",
              "3039                             Golfshot Plus: Golf GPS  ...   1499500.0\n",
              "2372    Human Anatomy Atlas 2018: Complete 3D Human Body  ...   2499000.0\n",
              "2251    Human Anatomy Atlas 2018: Complete 3D Human Body  ...   2499000.0\n",
              "9574    Human Anatomy Atlas 2018: Complete 3D Human Body  ...   2499000.0\n",
              "8719                                   DRAGON QUEST VIII  ...    999500.0\n",
              "8726                                     DRAGON QUEST VI  ...   1499000.0\n",
              "8736                            FINAL FANTASY DIMENSIONS  ...   1399000.0\n",
              "6180                     Baldur's Gate: Enhanced Edition  ...    999000.0\n",
              "10006                                XCOM®: Enemy Within  ...    999000.0\n",
              "8733                       CHRONO TRIGGER (Upgrade Ver.)  ...    999000.0\n",
              "1838                                  Star Wars ™: DIRTY  ...    999000.0\n",
              "7417                       Grand Theft Auto: San Andreas  ...   6990000.0\n",
              "2912                                 Facetune - For Free  ...   5990000.0\n",
              "2950                                 Facetune - For Free  ...   5990000.0\n",
              "2883                                 Facetune - For Free  ...   5990000.0\n",
              "5578                             Sleep as Android Unlock  ...   5990000.0\n",
              "8804                                 DraStic DS Emulator  ...   4990000.0\n",
              "9154                               NBA JAM by EA SPORTS™  ...   2495000.0\n",
              "2151                                     Toca Life: City  ...   1995000.0\n",
              "853                                      Toca Life: City  ...   1995000.0\n",
              "8449                           Cameringo+ Filters Camera  ...   1495000.0\n",
              "9478                                Farming Simulator 16  ...   1495000.0\n",
              "5627                           Five Nights at Freddy's 2  ...   1495000.0\n",
              "9785                        ES File Explorer/Manager PRO  ...   1495000.0\n",
              "5631                             Five Nights at Freddy's  ...   2990000.0\n",
              "8860                                         Bloons TD 5  ...   2990000.0\n",
              "2242                          Card Wars - Adventure Time  ...   2990000.0\n",
              "6911                               Beautiful Widgets Pro  ...   2490000.0\n",
              "3403                               Beautiful Widgets Pro  ...   2490000.0\n",
              "10036                                   ADWLauncher 1 EX  ...   1245000.0\n",
              "4901                           Assassin's Creed Identity  ...    995000.0\n",
              "7810                                CamScanner (License)  ...    995000.0\n",
              "5490                                          True Skate  ...   1990000.0\n",
              "9678                                   Where's My Water?  ...   1990000.0\n",
              "4034                                       Hitman Sniper  ...   9900000.0\n",
              "9151                             Lost Journey (Dreamsky)  ...    990000.0\n",
              "9165   League of Stickman 2018- Ninja Arena PVP(Dream...  ...    990000.0\n",
              "9170                       Stickman Legends: Shadow Wars  ...    990000.0\n",
              "6675                                Infinity Dungeon VIP  ...    990000.0\n",
              "3405                                          HD Widgets  ...    990000.0\n",
              "\n",
              "[50 rows x 4 columns]"
            ]
          },
          "metadata": {
            "tags": []
          },
          "execution_count": 235
        }
      ]
    },
    {
      "cell_type": "code",
      "metadata": {
        "colab": {
          "base_uri": "https://localhost:8080/",
          "height": 853
        },
        "id": "4eSX84dKNAFW",
        "outputId": "6564a5ad-32a0-41ca-8d84-36de491cb93d"
      },
      "source": [
        "# PLot a bar chart of app names at x and earning at y\n",
        "plt.figure(figsize=(15,9))\n",
        "plt.bar(earning_sorted_by_Price.App, earning_sorted_by_Price.Earnings, width=1.1, label=earning_sorted_by_Price.Earnings)\n",
        "plt.xlabel(\"Apps\")\n",
        "plt.ylabel(\"Earnings\")\n",
        "plt.tick_params(rotation=90)\n",
        "plt.title(\"Top Earning Apps\")"
      ],
      "execution_count": null,
      "outputs": [
        {
          "output_type": "execute_result",
          "data": {
            "text/plain": [
              "Text(0.5, 1.0, 'Top Earning Apps')"
            ]
          },
          "metadata": {
            "tags": []
          },
          "execution_count": 236
        },
        {
          "output_type": "display_data",
          "data": {
            "image/png": "[encoded data removed]",
            "text/plain": [
              "<Figure size 1080x648 with 1 Axes>"
            ]
          },
          "metadata": {
            "tags": [],
            "needs_background": "light"
          }
        }
      ]
    },
    {
      "cell_type": "markdown",
      "metadata": {
        "id": "8U0JcvAEZkQp"
      },
      "source": [
        ""
      ]
    },
    {
      "cell_type": "markdown",
      "metadata": {
        "id": "tOnd9WvzYEoY"
      },
      "source": [
        "## Conclusion\n",
        "\n",
        "After Analyzing the given dataset, we have answered some serious & interesting questions which any of the android users would love to know."
      ]
    },
    {
      "cell_type": "code",
      "metadata": {
        "id": "qpTB-_t6NZ66"
      },
      "source": [
        ""
      ],
      "execution_count": null,
      "outputs": []
    }
  ]
}